{
 "cells": [
  {
   "cell_type": "code",
   "execution_count": 3,
   "metadata": {},
   "outputs": [],
   "source": [
    "import numpy as np \n",
    "\n",
    "import scipy.linalg as sla\n",
    "\n",
    "import math\n",
    "\n",
    "import matplotlib.pyplot as plt\n",
    "\n",
    "%matplotlib inline"
   ]
  },
  {
   "cell_type": "markdown",
   "metadata": {},
   "source": [
    "$\\textbf{Практическая задача 1}$\n",
    "\n",
    "$\\dfrac{\\partial}{\\partial x}\\left(u \\dfrac{\\partial u}{\\partial x}\\right) + \\dfrac{\\partial}{\\partial y}\\left(u \\dfrac{\\partial u}{\\partial y}\\right) = - \\dfrac{5\\pi^2}{8}\\sin(\\pi x)\\left(\\sin(\\frac{\\pi y}{2} + \\cos(\\frac{\\pi y}{2})\\right)$, $x \\in (0, 1)$, $y \\in (0, 1)$\n",
    "\n",
    "$u(0, y) = u(1, y) = 0$\n",
    "\n",
    "$u(x, 0) = u(x, 1) = \\sqrt{\\sin(\\pi x)}$"
   ]
  },
  {
   "cell_type": "markdown",
   "metadata": {},
   "source": [
    "$\\textbf{1. Построение разностной задачи}$\n",
    "\n",
    "Аппроксимируем производные по схеме \"крест\". Узловые точки: $v_{m,n}$, где $n, m \\in \\{0, 1, 2, ..., N\\}$, $N = \\frac{1}{h}$, $h$ - шаг сетки, одинаковый по обоим измерениям. "
   ]
  },
  {
   "cell_type": "markdown",
   "metadata": {},
   "source": [
    "$\\dfrac{\\partial}{\\partial x}\\left(u \\dfrac{\\partial u}{\\partial x}\\right) \\approx \\dfrac{1}{h}\\left(u_{m+0.5,n} \\cdot \\dfrac{u_{m+1,n} - u_{m,n}}{h} - u_{m-0.5,n} \\cdot \\dfrac{u_{m,n} - u_{m-1,n}}{h} \\right)$\n",
    "\n",
    "$\\dfrac{\\partial}{\\partial y}\\left(u \\dfrac{\\partial u}{\\partial y}\\right) \\approx \\dfrac{1}{h}\\left(u_{m,n+0.5} \\cdot \\dfrac{u_{m,n+1} - u_{m,n}}{h} - u_{m,n-0.5} \\cdot \\dfrac{u_{m,n} - u_{m,n-1}}{h} \\right)$"
   ]
  },
  {
   "cell_type": "markdown",
   "metadata": {},
   "source": [
    "Точки в половинных ущлах аппроксимируем средним арифметическим значений в ближайших узлах. Например, $u_{m+0.5,n} = \\dfrac{u_{m,n} + u_{m+1,n}}{2}$. Тогда для производных получим:"
   ]
  },
  {
   "cell_type": "markdown",
   "metadata": {},
   "source": [
    "$\\dfrac{\\partial}{\\partial x}\\left(u \\dfrac{\\partial u}{\\partial x}\\right) \\approx \\dfrac{1}{2h^2}\\left((u_{m+1,n})^2 + (u_{m-1,n})^2 - 2(u_{m,n})^2 \\right)$\n",
    "\n",
    "$\\dfrac{\\partial}{\\partial y}\\left(u \\dfrac{\\partial u}{\\partial y}\\right) \\approx \\dfrac{1}{2h^2}\\left((u_{m,n+1})^2 + (u_{m,n-1})^2 - 2(u_{m,n})^2 \\right)$"
   ]
  },
  {
   "cell_type": "markdown",
   "metadata": {},
   "source": [
    "Разностная задача: \n",
    "    \n",
    "$ \\dfrac{1}{2h^2}\\left((u_{m+1,n})^2 + (u_{m-1,n})^2 - 2(u_{m,n})^2 \\right) + \\dfrac{1}{2h^2}\\left((u_{m,n+1})^2 + (u_{m,n-1})^2 - 2(u_{m,n})^2 \\right) = -\\dfrac{5\\pi^2}{8}\\sin(\\pi x_m)\\left(\\sin(\\frac{\\pi y_n}{2} + \\cos(\\frac{\\pi y_n}{2})\\right)$\n",
    "\n",
    "Здесь $x_m = hm$, $y_n = hn$.\n",
    "\n",
    "$u_{m,0} = u_{m,N} = 0$, $u_{0,n} = u_{N,n} = \\sqrt{\\sin(\\pi x_m)}$ для любых допустимых значений $m$ и $n$."
   ]
  },
  {
   "cell_type": "markdown",
   "metadata": {},
   "source": [
    "$\\textbf{2. Метод установки}$\n",
    "\n",
    "Вместо стационарной рассмотрим нестационарную задачу: \n",
    "\n",
    "$\\dfrac{\\partial u}{\\partial t} = \\dfrac{\\partial}{\\partial x}\\left(u \\dfrac{\\partial u}{\\partial x}\\right) + \\dfrac{\\partial}{\\partial y}\\left(u \\dfrac{\\partial u}{\\partial y}\\right) + \\dfrac{5\\pi^2}{8}\\sin(\\pi x_m)\\left(\\sin(\\frac{\\pi y_n}{2} + \\cos(\\frac{\\pi y_n}{2})\\right)$\n",
    "\n",
    "Ее решение при достаточно большом $t$ сходится к решению нестационарной задачи. \n",
    "\n",
    "Решим нестационарную задачу $\\textbf{методом простых итераций}$. Для этого аппроксимируем производную по времени: \n",
    "\n",
    "$\\dfrac{\\partial u}{\\partial t} = \\dfrac{u^{s+1} - u^s}{\\tau}$\n",
    "\n",
    "Здесь $s$ - узел сетки по времени и одновременно порядок итерации, $\\tau$ - временной шаг."
   ]
  },
  {
   "cell_type": "markdown",
   "metadata": {},
   "source": [
    "Таким образом, нестационарная разностная задача:\n",
    "    \n",
    "$\\dfrac{u^{s+1}_{m,n} - u^s_{m,n}}{\\tau} = \\dfrac{1}{2h^2}\\left((u^s_{m+1,n})^2 + (u^s_{m-1,n})^2 - 2(u^s_{m,n})^2 \\right) + \\dfrac{1}{2h^2}\\left((u^s_{m,n+1})^2 + (u^s_{m,n-1})^2 - 2(u^s_{m,n})^2 \\right) + \\dfrac{5\\pi^2}{8}\\sin(\\pi x_m)\\left(\\sin(\\frac{\\pi y_n}{2} + \\cos(\\frac{\\pi y_n}{2})\\right)$\n",
    "\n",
    "$u_{m,0} = u_{m,N} = 0$, $u_{0,n} = u_{N,n} = \\sqrt{\\sin(\\pi x_m)}$ для любых допустимых значений $m$ и $n$."
   ]
  },
  {
   "cell_type": "markdown",
   "metadata": {},
   "source": [
    "Выражение для \"нового\" значения в узле $(m,n)$:\n",
    "\n",
    "$u^{s+1}_{m,n} = u^s_{m,n} + \\dfrac{5\\pi^2}{8}\\sin(\\pi x_m)\\left(\\sin(\\frac{\\pi y_n}{2} + \\cos(\\frac{\\pi y_n}{2})\\right) + \\dfrac{\\tau}{2h^2}\\left((u^s_{m-1,n})^2 + (u^s_{m+1,n})^2 + (u^s_{m,n-1})^2 + (u^s_{m,n+1})^2 - 4(u^s_{m,n})^2 \\right)$"
   ]
  },
  {
   "cell_type": "markdown",
   "metadata": {},
   "source": [
    "$\\textbf{3. Реализация задачи}$"
   ]
  },
  {
   "cell_type": "markdown",
   "metadata": {},
   "source": [
    "Шаг сетки выберем равным $h = 0.2$. "
   ]
  },
  {
   "cell_type": "code",
   "execution_count": 4,
   "metadata": {},
   "outputs": [],
   "source": [
    "h = 0.2"
   ]
  },
  {
   "cell_type": "markdown",
   "metadata": {},
   "source": [
    "Вычислим $\\lambda_{min}$ и $\\lambda_{max}$ - минимальное и максимальное собственные значения оператора Лапласа. В дальнейшем они будут использованы для выбора $\\tau$ и количества итераций метода:\n",
    "\n",
    "$\\lambda_{min} = 2\\pi^2$, $\\lambda_{max} = \\dfrac{8}{h^2} - 2*\\pi^2$"
   ]
  },
  {
   "cell_type": "code",
   "execution_count": 5,
   "metadata": {},
   "outputs": [
    {
     "name": "stdout",
     "output_type": "stream",
     "text": [
      "lambda_min = 19.739208802178716\n",
      "\n"
     ]
    }
   ],
   "source": [
    "lambda_min = 2 * math.pi * math.pi\n",
    "print(\"lambda_min = {}\\n\".format(lambda_min))"
   ]
  },
  {
   "cell_type": "code",
   "execution_count": 6,
   "metadata": {},
   "outputs": [
    {
     "name": "stdout",
     "output_type": "stream",
     "text": [
      "lambda_max = 193.71681469282038\n",
      "\n"
     ]
    }
   ],
   "source": [
    "lambda_max = (8 / h ** 2.) - 2 * math.pi\n",
    "print(\"lambda_max = {}\\n\".format(lambda_max))"
   ]
  },
  {
   "cell_type": "markdown",
   "metadata": {},
   "source": [
    "Метод простых итераций сходится, если выполнено условие: $\\tau < \\dfrac{2}{\\lambda_{max}}$."
   ]
  },
  {
   "cell_type": "code",
   "execution_count": 7,
   "metadata": {},
   "outputs": [
    {
     "name": "stdout",
     "output_type": "stream",
     "text": [
      "tau < 0.01032434898938138\n",
      "\n"
     ]
    }
   ],
   "source": [
    "tau_max = 2 / lambda_max\n",
    "print(\"tau < {}\\n\".format(tau_max))"
   ]
  },
  {
   "cell_type": "markdown",
   "metadata": {},
   "source": [
    "Выберем $\\tau = \\dfrac{2}{\\lambda_{min} + \\lambda_{max}}$."
   ]
  },
  {
   "cell_type": "code",
   "execution_count": 8,
   "metadata": {},
   "outputs": [
    {
     "name": "stdout",
     "output_type": "stream",
     "text": [
      "tau = 0.009369611441519505\n",
      "\n"
     ]
    }
   ],
   "source": [
    "tau = 2 / (lambda_min + lambda_max)\n",
    "print(\"tau = {}\\n\".format(tau))"
   ]
  },
  {
   "cell_type": "markdown",
   "metadata": {},
   "source": [
    "Количество итераций $S$, необходимых для обеспечения сходимости с заданной точностью $\\epsilon = 0.1$, равно: \n",
    "\n",
    "$S = \\dfrac{\\ln\\epsilon}{\\ln\\rho}$, где $\\rho = \\dfrac{1 - \\xi}{1 + \\xi}$, $\\xi = \\dfrac{\\lambda_{min}}{\\lambda_{max}}$"
   ]
  },
  {
   "cell_type": "code",
   "execution_count": 9,
   "metadata": {},
   "outputs": [],
   "source": [
    "epsilon = 0.01"
   ]
  },
  {
   "cell_type": "code",
   "execution_count": 10,
   "metadata": {},
   "outputs": [
    {
     "name": "stdout",
     "output_type": "stream",
     "text": [
      "xi = 0.10189724022398093\n",
      "\n"
     ]
    }
   ],
   "source": [
    "xi = lambda_min / lambda_max\n",
    "print(\"xi = {}\\n\".format(xi))"
   ]
  },
  {
   "cell_type": "code",
   "execution_count": 11,
   "metadata": {},
   "outputs": [
    {
     "name": "stdout",
     "output_type": "stream",
     "text": [
      "rho = 0.8150512833605638\n",
      "\n"
     ]
    }
   ],
   "source": [
    "rho = (1 - xi) / (1 + xi)\n",
    "print(\"rho = {}\\n\".format(rho))"
   ]
  },
  {
   "cell_type": "code",
   "execution_count": 12,
   "metadata": {},
   "outputs": [
    {
     "name": "stdout",
     "output_type": "stream",
     "text": [
      "S = 22.518702353077174\n",
      "\n"
     ]
    }
   ],
   "source": [
    "S = math.log(epsilon) / math.log(rho)\n",
    "print(\"S = {}\\n\".format(S))"
   ]
  },
  {
   "cell_type": "markdown",
   "metadata": {},
   "source": [
    "Установим количество итераций $total > S$."
   ]
  },
  {
   "cell_type": "code",
   "execution_count": 13,
   "metadata": {},
   "outputs": [
    {
     "name": "stdout",
     "output_type": "stream",
     "text": [
      "total = 23\n",
      "\n"
     ]
    }
   ],
   "source": [
    "total = int(S) + 1\n",
    "print(\"total = {}\\n\".format(total))"
   ]
  },
  {
   "cell_type": "markdown",
   "metadata": {},
   "source": [
    "Программный код, реализующий итерации:"
   ]
  },
  {
   "cell_type": "code",
   "execution_count": 14,
   "metadata": {},
   "outputs": [],
   "source": [
    "# подсчет правой части в точках m, n\n",
    "\n",
    "def get_right_part(m, n):\n",
    "    ans = (-5 * math.pi ** 2 / 8) * math.sin(math.pi * h * m) * (math.sin(math.pi * h * n / 2) + math.cos(math. pi * h * n / 2))\n",
    "    return ans"
   ]
  },
  {
   "cell_type": "code",
   "execution_count": 15,
   "metadata": {},
   "outputs": [
    {
     "name": "stdout",
     "output_type": "stream",
     "text": [
      "-4.568717763101125\n"
     ]
    }
   ],
   "source": [
    "print(get_right_part(1, 1))"
   ]
  },
  {
   "cell_type": "code",
   "execution_count": 16,
   "metadata": {},
   "outputs": [],
   "source": [
    "# подсчет нового значения в узле (m, n)\n",
    "\n",
    "def get_new_value(prev_values, m, n):\n",
    "    combination = (prev_values[m - 1][n]) ** 2 + (prev_values[m + 1][n]) ** 2 + (prev_values[m][n - 1]) ** 2 + (prev_values[m][n + 1]) ** 2\n",
    "    ans = prev_values[m][n] - tau * get_right_part(m, n) + (tau / (2 * h * h)) * (combination - 4 * (prev_values[m][n]) ** 2)\n",
    "    \n",
    "    return ans"
   ]
  },
  {
   "cell_type": "code",
   "execution_count": 17,
   "metadata": {},
   "outputs": [
    {
     "name": "stdout",
     "output_type": "stream",
     "text": [
      "[[0.00000000e+00 0.00000000e+00 0.00000000e+00 0.00000000e+00\n",
      "  0.00000000e+00 0.00000000e+00]\n",
      " [7.66671541e-01 8.65442253e-01 9.13089388e-01 9.13425944e-01\n",
      "  8.66138971e-01 7.66671541e-01]\n",
      " [9.75221265e-01 1.10149929e+00 1.16222620e+00 1.16251416e+00\n",
      "  1.10209288e+00 9.75221265e-01]\n",
      " [9.75221265e-01 1.10173803e+00 1.16251358e+00 1.16274842e+00\n",
      "  1.10222230e+00 9.75221265e-01]\n",
      " [7.66671541e-01 8.66137793e-01 9.13922948e-01 9.14105560e-01\n",
      "  8.66516392e-01 7.66671541e-01]\n",
      " [1.10663761e-08 0.00000000e+00 0.00000000e+00 0.00000000e+00\n",
      "  0.00000000e+00 1.10663761e-08]]\n"
     ]
    }
   ],
   "source": [
    "# реализация итераций\n",
    "# начальные значения во всех узлах нулевые\n",
    "\n",
    "size = int(1 / h + 1.)\n",
    "prev_values = np.zeros((size, size))\n",
    "cur_values = np.zeros((size, size))\n",
    "\n",
    "for row in range(size):\n",
    "    prev_values[row][0] = math.sqrt(math.sin(math.pi * h * row))\n",
    "    prev_values[row][size - 1] = math.sqrt(math.sin(math.pi * h * row))\n",
    "\n",
    "for it in range(total):\n",
    "    for row in range(1, size - 1):\n",
    "        for col in range(1, size - 1):\n",
    "            cur_values[row][col] = get_new_value(prev_values, row, col)\n",
    "    \n",
    "    prev_values = cur_values\n",
    "    for row in range(size):\n",
    "        prev_values[row][0] = math.sqrt(math.sin(math.pi * h * row))\n",
    "        prev_values[row][size - 1] = math.sqrt(math.sin(math.pi * h * row))\n",
    "    \n",
    "print(cur_values)"
   ]
  },
  {
   "cell_type": "markdown",
   "metadata": {},
   "source": [
    "$\\textbf{4. Аналитическое решение задачи}$\n",
    "\n",
    "Сделаем замену $v = u^2/2$, при которой исходное уравнение переходит в уравнение Пуассона с той же правой частью.\n",
    "\n",
    "Будем искать решение в виде $v(x, y) = A\\sin(\\pi x)\\left(\\sin(\\pi y/2) + \\cos(\\pi y/2)\\right)$, $A = const$. Граничные условия удовлетворяются. Подстановка в исходное уравнение дает: \n",
    "\n",
    "$-A(\\pi)^2\\cdot\\left(\\sin(\\pi y/2) + \\cos(\\pi y/2)\\right) - A(\\pi/2)^2\\cdot\\sin(\\pi x)\\cdot\\ \\left(\\sin(\\pi y/2) + \\cos(\\pi y/2)\\right) = -\\dfrac{5\\pi^2}{8}\\sin(\\pi x)\\left(\\sin(\\pi y/2) + \\cos(\\pi y/2)\\right) $\n",
    "\n",
    "$-A(1 + 0.25) = -0.625$\n",
    "\n",
    "$A = 0.5$\n",
    "\n",
    "Таким образом, $v = 0.5\\sin(\\pi x)\\left(\\sin(\\pi y/2) + \\cos(\\pi y/2)\\right)$; $u = \\sqrt{\\sin(\\pi x)\\left(\\sin(\\pi y/2) + \\cos(\\pi y/2)\\right)}$."
   ]
  },
  {
   "cell_type": "markdown",
   "metadata": {},
   "source": [
    "$\\textbf{5. Сравнение численного и аналитического решений}$\n",
    "\n",
    "Вычислим истинные значения в узлах сеточной функции."
   ]
  },
  {
   "cell_type": "code",
   "execution_count": 19,
   "metadata": {},
   "outputs": [
    {
     "name": "stdout",
     "output_type": "stream",
     "text": [
      "[[0.00000000e+00 0.00000000e+00 0.00000000e+00 0.00000000e+00\n",
      "  0.00000000e+00 0.00000000e+00]\n",
      " [7.66671541e-01 8.60611774e-01 9.06101408e-01 9.06101408e-01\n",
      "  8.60611774e-01 7.66671541e-01]\n",
      " [9.75221265e-01 1.09471509e+00 1.15257879e+00 1.15257879e+00\n",
      "  1.09471509e+00 9.75221265e-01]\n",
      " [9.75221265e-01 1.09471509e+00 1.15257879e+00 1.15257879e+00\n",
      "  1.09471509e+00 9.75221265e-01]\n",
      " [7.66671541e-01 8.60611774e-01 9.06101408e-01 9.06101408e-01\n",
      "  8.60611774e-01 7.66671541e-01]\n",
      " [1.10663761e-08 1.24223387e-08 1.30789503e-08 1.30789503e-08\n",
      "  1.24223387e-08 1.10663761e-08]]\n"
     ]
    }
   ],
   "source": [
    "true_values = np.zeros((size, size))\n",
    "\n",
    "for row in range(size):\n",
    "    for col in range(size):\n",
    "        true_values[row][col] = math.sqrt(math.sin(math.pi * row * h) * (math.sin(math.pi * col * h / 2) + math.cos(math.pi * col * h / 2)))\n",
    "        \n",
    "print(true_values)"
   ]
  },
  {
   "cell_type": "markdown",
   "metadata": {},
   "source": [
    "Сравним полученные значения, вычитая истинные значения из приближенных:"
   ]
  },
  {
   "cell_type": "code",
   "execution_count": 22,
   "metadata": {},
   "outputs": [
    {
     "name": "stdout",
     "output_type": "stream",
     "text": [
      "[0. 0. 0. 0. 0. 0.]\n",
      "[ 0.     -0.0048 -0.007  -0.0073 -0.0055  0.    ]\n",
      "[ 0.     -0.0068 -0.0096 -0.0099 -0.0074  0.    ]\n",
      "[ 0.     -0.007  -0.0099 -0.0102 -0.0075  0.    ]\n",
      "[ 0.     -0.0055 -0.0078 -0.008  -0.0059  0.    ]\n",
      "[0.0000e+00 1.2422e-08 1.3079e-08 1.3079e-08 1.2422e-08 0.0000e+00]\n"
     ]
    }
   ],
   "source": [
    "np.set_printoptions(precision=4)\n",
    "for col in true_values - cur_values:\n",
    "    print(col)"
   ]
  },
  {
   "cell_type": "markdown",
   "metadata": {},
   "source": [
    "Видно, что аппроксимация прошла успешно."
   ]
  },
  {
   "cell_type": "code",
   "execution_count": 23,
   "metadata": {},
   "outputs": [],
   "source": [
    "# реализация итераций\n",
    "# начальные значения во всех узлах нулевые\n",
    "\n",
    "size = int(1 / h + 1.)\n",
    "prev_values = np.zeros((size, size))\n",
    "cur_values = np.zeros((size, size))\n",
    "\n",
    "for row in range(size):\n",
    "    prev_values[row][0] = math.sqrt(math.sin(math.pi * h * row))\n",
    "    prev_values[row][size - 1] = math.sqrt(math.sin(math.pi * h * row))"
   ]
  },
  {
   "cell_type": "code",
   "execution_count": 24,
   "metadata": {
    "scrolled": true
   },
   "outputs": [
    {
     "data": {
      "text/plain": [
       "array([[0.0000e+00, 0.0000e+00, 0.0000e+00, 0.0000e+00, 0.0000e+00,\n",
       "        0.0000e+00],\n",
       "       [7.6667e-01, 0.0000e+00, 0.0000e+00, 0.0000e+00, 0.0000e+00,\n",
       "        7.6667e-01],\n",
       "       [9.7522e-01, 0.0000e+00, 0.0000e+00, 0.0000e+00, 0.0000e+00,\n",
       "        9.7522e-01],\n",
       "       [9.7522e-01, 0.0000e+00, 0.0000e+00, 0.0000e+00, 0.0000e+00,\n",
       "        9.7522e-01],\n",
       "       [7.6667e-01, 0.0000e+00, 0.0000e+00, 0.0000e+00, 0.0000e+00,\n",
       "        7.6667e-01],\n",
       "       [1.1066e-08, 0.0000e+00, 0.0000e+00, 0.0000e+00, 0.0000e+00,\n",
       "        1.1066e-08]])"
      ]
     },
     "execution_count": 24,
     "metadata": {},
     "output_type": "execute_result"
    }
   ],
   "source": [
    "prev_values"
   ]
  },
  {
   "cell_type": "code",
   "execution_count": 382,
   "metadata": {},
   "outputs": [],
   "source": [
    "# подсчет правой части в точках m, n\n",
    "\n",
    "def get_right_part(m, n):\n",
    "    ans =  (- 5 * math.pi ** 2 / 9) * (math.sin(math.pi * h * m / 3) + math.cos(math.pi * h * m / 3)) * math.sin(math.pi * h * n)\n",
    "    return ans"
   ]
  },
  {
   "cell_type": "code",
   "execution_count": 340,
   "metadata": {},
   "outputs": [],
   "source": [
    "def get_new_value(prev_values, m, n):\n",
    "    combination = (prev_values[m - 1][n]) ** 2 + (prev_values[m + 1][n]) ** 2 + (prev_values[m][n - 1]) ** 2 + (prev_values[m][n + 1]) ** 2\n",
    "    ans = prev_values[m][n] - tau * get_right_part(m, n) + (tau / (2 * h * h)) * (combination - 4 * (prev_values[m][n]) ** 2)\n",
    "    \n",
    "    return ans"
   ]
  },
  {
   "cell_type": "code",
   "execution_count": 27,
   "metadata": {},
   "outputs": [
    {
     "name": "stdout",
     "output_type": "stream",
     "text": [
      "[0.     0.5559 0.7667 0.8995 0.9752 1.    ]\n",
      "[0.     0.7986 1.0221 1.1109 1.0971 0.9752]\n",
      "[0.     0.9151 1.1477 1.2148 1.1461 0.8995]\n",
      "[0.     0.8988 1.1215 1.1763 1.084  0.7667]\n",
      "[0.     0.7406 0.9321 0.9856 0.9078 0.5559]\n",
      "[0.     0.3931 0.5421 0.636  0.6896 0.7071]\n"
     ]
    }
   ],
   "source": [
    "#реализация итераций\n",
    "# начальные значения во всех узлах нулевые\n",
    "\n",
    "size = int(1 / h + 1.)\n",
    "prev_values = np.zeros((size, size))\n",
    "cur_values = np.zeros((size, size))\n",
    "\n",
    "for row in range(size):\n",
    "#     prev_values[row][size - 1] = math.sqrt(math.cos(math.pi * h * row / 2))\n",
    "    \n",
    "    prev_values[0][row] = math.sqrt(math.sin(math.pi * h * row))\n",
    "    prev_values[size - 1][row] = math.sqrt((1 + math.sqrt(3)) * 0.5 * math.sin(math.pi * h * row / 2))\n",
    "\n",
    "for it in range(total):\n",
    "    for row in range(1, size - 1):\n",
    "        for col in range(1, size - 1):\n",
    "            cur_values[row][col] = get_new_value(prev_values, row, col)\n",
    "    \n",
    "    prev_values = cur_values\n",
    "    for row in range(size):\n",
    "        prev_values[row][size - 1] = math.sqrt(math.cos(math.pi * h * row / 2))\n",
    "    \n",
    "        prev_values[0][row] = math.sqrt(math.sin(math.pi * h * row / 2))\n",
    "        prev_values[size - 1][row] = math.sqrt(0.5 * math.sin(math.pi * h * row / 2))\n",
    "    \n",
    "for x in cur_values:\n",
    "    print(x)"
   ]
  },
  {
   "cell_type": "code",
   "execution_count": 355,
   "metadata": {},
   "outputs": [
    {
     "name": "stdout",
     "output_type": "stream",
     "text": [
      "[0.0000e+00 7.6667e-01 9.7522e-01 9.7522e-01 7.6667e-01 1.1066e-08]\n",
      "[0.0000e+00 8.3495e-01 1.0621e+00 1.0621e+00 8.3495e-01 1.2052e-08]\n",
      "[0.0000e+00 8.8093e-01 1.1206e+00 1.1206e+00 8.8093e-01 1.2716e-08]\n",
      "[0.0000e+00 9.0610e-01 1.1526e+00 1.1526e+00 9.0610e-01 1.3079e-08]\n",
      "[0.0000e+00 9.1111e-01 1.1589e+00 1.1589e+00 9.1111e-01 1.3151e-08]\n",
      "[0.0000e+00 8.9606e-01 1.1398e+00 1.1398e+00 8.9606e-01 1.2934e-08]\n"
     ]
    }
   ],
   "source": [
    "true_values = np.zeros((size, size))\n",
    "\n",
    "for row in range(size):\n",
    "    for col in range(size):\n",
    "        true_values[row][col] = math.sqrt((math.sin(math.pi * h * row / 3) + math.cos(math.pi * h * row / 3)) * math.sin(math.pi * h * col))\n",
    "        \n",
    "for x in true_values:\n",
    "    print(x)"
   ]
  },
  {
   "cell_type": "code",
   "execution_count": 354,
   "metadata": {
    "scrolled": true
   },
   "outputs": [
    {
     "data": {
      "text/plain": [
       "array([[ 0.    , -0.2108, -0.2085, -0.0758,  0.2085,  1.    ],\n",
       "       [ 0.    , -0.4344, -0.453 , -0.325 ,  0.0169,  0.9752],\n",
       "       [ 0.    , -0.6006, -0.6694, -0.5703, -0.1769,  0.8995],\n",
       "       [ 0.    , -0.6274, -0.7147, -0.6468, -0.2986,  0.7667],\n",
       "       [ 0.    , -0.5628, -0.6364, -0.567 , -0.3045,  0.5559],\n",
       "       [ 0.    , -0.503 , -0.5977, -0.5038, -0.2065,  0.7071]])"
      ]
     },
     "execution_count": 354,
     "metadata": {},
     "output_type": "execute_result"
    }
   ],
   "source": [
    "cur_values - true_values"
   ]
  },
  {
   "cell_type": "code",
   "execution_count": null,
   "metadata": {},
   "outputs": [],
   "source": [
    "# подсчет правой части в точках m, n\n",
    "\n",
    "def get_right_part(m, n):\n",
    "    ans =  (- 5 * math.pi ** 2 / 9) * (math.sin(math.pi * h * m / 3) + math.cos(math.pi * h * m / 3)) * math.sin(math.pi * h * n)\n",
    "    return ans\n",
    "\n",
    "def get_new_value(prev_values, m, n):\n",
    "    combination = (prev_values[m - 1][n]) ** 2 + (prev_values[m + 1][n]) ** 2 + (prev_values[m][n - 1]) ** 2 + (prev_values[m][n + 1]) ** 2\n",
    "    ans = prev_values[m][n] - tau * get_right_part(m, n) + (tau / (2 * h * h)) * (combination - 4 * (prev_values[m][n]) ** 2)\n",
    "    \n",
    "    return ans\n",
    "\n",
    "#реализация итераций\n",
    "# начальные значения во всех узлах нулевые\n",
    "\n",
    "size = int(1 / h + 1.)\n",
    "prev_values = np.zeros((size, size))\n",
    "cur_values = np.zeros((size, size))\n",
    "\n",
    "for row in range(size):\n",
    "#     prev_values[row][size - 1] = math.sqrt(math.cos(math.pi * h * row / 2))\n",
    "    \n",
    "    prev_values[0][row] = math.sqrt(math.sin(math.pi * h * row))\n",
    "    prev_values[size - 1][row] = math.sqrt((1 + math.sqrt(3)) * 0.5 * math.sin(math.pi * h * row / 2))\n",
    "\n",
    "for it in range(total):\n",
    "    for row in range(1, size - 1):\n",
    "        for col in range(1, size - 1):\n",
    "            cur_values[row][col] = get_new_value(prev_values, row, col)\n",
    "    \n",
    "    prev_values = cur_values\n",
    "    for row in range(size):\n",
    "        prev_values[row][size - 1] = math.sqrt(math.cos(math.pi * h * row / 2))\n",
    "    \n",
    "        prev_values[0][row] = math.sqrt(math.sin(math.pi * h * row / 2))\n",
    "        prev_values[size - 1][row] = math.sqrt(0.5 * math.sin(math.pi * h * row / 2))\n",
    "    \n",
    "for x in cur_values:\n",
    "    print(x)\n",
    "\n",
    "true_values = np.zeros((size, size))\n",
    "\n",
    "for row in range(size):\n",
    "    for col in range(size):\n",
    "        true_values[row][col] = math.sqrt((math.sin(math.pi * h * row / 3) + math.cos(math.pi * h * row / 3)) * math.sin(math.pi * h * col))\n",
    "        \n",
    "for x in true_values:\n",
    "    print(x)\n",
    "\n",
    "cur_values - true_values"
   ]
  },
  {
   "cell_type": "code",
   "execution_count": 36,
   "metadata": {
    "scrolled": true
   },
   "outputs": [
    {
     "data": {
      "text/plain": [
       "array([[0.    , 0.5559, 0.7667, 0.8995, 0.9752, 1.    ],\n",
       "       [0.    , 0.7986, 1.0221, 1.1109, 1.0971, 0.9752],\n",
       "       [0.    , 0.9151, 1.1477, 1.2148, 1.1461, 0.8995],\n",
       "       [0.    , 0.8988, 1.1215, 1.1763, 1.084 , 0.7667],\n",
       "       [0.    , 0.7406, 0.9321, 0.9856, 0.9078, 0.5559],\n",
       "       [0.    , 0.3931, 0.5421, 0.636 , 0.6896, 0.7071]])"
      ]
     },
     "execution_count": 36,
     "metadata": {},
     "output_type": "execute_result"
    }
   ],
   "source": [
    "cur_values"
   ]
  },
  {
   "cell_type": "code",
   "execution_count": 54,
   "metadata": {},
   "outputs": [],
   "source": [
    "def f():\n",
    "    global t\n",
    "    t = 1.0031456134 * cur_values"
   ]
  },
  {
   "cell_type": "code",
   "execution_count": 55,
   "metadata": {},
   "outputs": [],
   "source": [
    "t = np.zeros((size, size))"
   ]
  },
  {
   "cell_type": "code",
   "execution_count": 56,
   "metadata": {},
   "outputs": [],
   "source": [
    "f()"
   ]
  },
  {
   "cell_type": "code",
   "execution_count": 57,
   "metadata": {},
   "outputs": [
    {
     "data": {
      "text/plain": [
       "array([[0.    , 0.5576, 0.7691, 0.9023, 0.9783, 1.0031],\n",
       "       [0.    , 0.8012, 1.0253, 1.1144, 1.1006, 0.9783],\n",
       "       [0.    , 0.918 , 1.1513, 1.2186, 1.1497, 0.9023],\n",
       "       [0.    , 0.9016, 1.1251, 1.18  , 1.0874, 0.7691],\n",
       "       [0.    , 0.7429, 0.9351, 0.9887, 0.9106, 0.5576],\n",
       "       [0.    , 0.3943, 0.5438, 0.638 , 0.6918, 0.7093]])"
      ]
     },
     "execution_count": 57,
     "metadata": {},
     "output_type": "execute_result"
    }
   ],
   "source": [
    "t"
   ]
  },
  {
   "cell_type": "code",
   "execution_count": null,
   "metadata": {},
   "outputs": [],
   "source": []
  }
 ],
 "metadata": {
  "kernelspec": {
   "display_name": "Python 3",
   "language": "python",
   "name": "python3"
  },
  "language_info": {
   "codemirror_mode": {
    "name": "ipython",
    "version": 3
   },
   "file_extension": ".py",
   "mimetype": "text/x-python",
   "name": "python",
   "nbconvert_exporter": "python",
   "pygments_lexer": "ipython3",
   "version": "3.7.1"
  }
 },
 "nbformat": 4,
 "nbformat_minor": 2
}
