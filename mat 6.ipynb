{
 "cells": [
  {
   "cell_type": "markdown",
   "metadata": {},
   "source": [
    "# Практическая задача по вычислительной математике\n",
    "## Иванов Кирилл, 625 группа, вариант 5\n",
    "\n",
    "Импортируем необходимые библиотеки:"
   ]
  },
  {
   "cell_type": "code",
   "execution_count": 67,
   "metadata": {},
   "outputs": [],
   "source": [
    "import numpy as np \n",
    "import scipy.linalg as sla\n",
    "import math\n",
    "import matplotlib.pyplot as plt\n",
    "\n",
    "%matplotlib inline\n",
    "\n",
    "#Функция для отображения вывода результата вычислений Python в формате LaTeX\n",
    "from IPython.display import display, Math, Latex\n",
    "def print_math(string):\n",
    "    display(Math(string))"
   ]
  },
  {
   "cell_type": "markdown",
   "metadata": {},
   "source": [
    "## Формулировка задачи\n",
    "\n",
    "$$\\dfrac{\\partial}{\\partial x}\\left(u \\dfrac{\\partial u}{\\partial x}\\right) + \\dfrac{\\partial}{\\partial y}\\left(u \\dfrac{\\partial u}{\\partial y}\\right) = - \\dfrac{13\\pi^2}{72}\\cos\\left(\\dfrac{\\pi x}{3}\\right) \\sin\\left(\\dfrac{\\pi y}{2}\\right),$$\n",
    "$$ x \\in (0, 1), y \\in (0, 1)$$\n",
    "\n",
    "$u(0, y) = \\sqrt{\\sin\\left(\\dfrac{\\pi y}{2}\\right)}$ \n",
    "\n",
    "$u(1, y) = \\sqrt{\\dfrac12 \\sin\\left(\\dfrac{\\pi y}{2}\\right)}$\n",
    "\n",
    "$u(x, 0) = 0 $ \n",
    "\n",
    "$u(x, 1) = \\sqrt{\\sin\\left(\\dfrac{\\pi x}{3}\\right)}$"
   ]
  },
  {
   "cell_type": "markdown",
   "metadata": {},
   "source": [
    "### Аналитическое решение задачи\n",
    "\n",
    "Замена $W = u^2$, при которой исходное уравнение принимает вид:\n",
    "\n",
    "$$ \\Delta W = - \\dfrac{13\\pi^2}{36}\\cos\\left(\\dfrac{\\pi x}{3}\\right) \\sin\\left(\\dfrac{\\pi y}{2}\\right) $$\n",
    "\n",
    "Ищем решение в виде $W = C \\cos\\left(\\dfrac{\\pi x}{3}\\right) \\sin\\left(\\dfrac{\\pi y}{2}\\right)$. Подстановка дает: \n",
    "\n",
    "$$ C \\cdot \\left(-\\dfrac{\\pi^2}{9}\\right) \\cos\\left(\\dfrac{\\pi x}{3}\\right) \\sin\\left(\\dfrac{\\pi y}{2}\\right) + C \\cdot \\left(-\\dfrac{\\pi^2}{4}\\right)  \\cos\\left(\\dfrac{\\pi x}{3}\\right) \\sin\\left(\\dfrac{\\pi y}{2}\\right) = - \\dfrac{13\\pi^2}{36} \\cos\\left(\\dfrac{\\pi x}{3}\\right) \\sin\\left(\\dfrac{\\pi y}{2}\\right), $$\n",
    "\n",
    "$$ C \\left( \\dfrac19 + \\dfrac14 \\right) = \\dfrac{13}{36} \\Rightarrow C \\cdot \\dfrac{13}{36} = \\dfrac{13}{36} \\Rightarrow C = 1 $$\n",
    "\n",
    "Получаем $W = \\cos\\left(\\dfrac{\\pi x}{3}\\right) \\sin\\left(\\dfrac{\\pi y}{2}\\right)$, откуда исходная функция\n",
    "\n",
    "$$ u =  \\sqrt{ \\cos\\left(\\dfrac{\\pi x}{3}\\right) \\sin\\left(\\dfrac{\\pi y}{2}\\right)}$$"
   ]
  },
  {
   "cell_type": "markdown",
   "metadata": {},
   "source": [
    "Вычислим истинные значения в узлах сеточной функции."
   ]
  },
  {
   "cell_type": "code",
   "execution_count": 296,
   "metadata": {},
   "outputs": [
    {
     "name": "stdout",
     "output_type": "stream",
     "text": [
      "[0.     0.5559 0.7667 0.8995 0.9752 1.    ]\n",
      "[0.     0.5498 0.7582 0.8896 0.9645 0.989 ]\n",
      "[0.     0.5313 0.7328 0.8597 0.9321 0.9558]\n",
      "[0.     0.5    0.6896 0.809  0.8772 0.8995]\n",
      "[0.     0.4547 0.6271 0.7358 0.7977 0.818 ]\n",
      "[0.     0.3931 0.5421 0.636  0.6896 0.7071]\n"
     ]
    }
   ],
   "source": [
    "true = np.zeros((size, size))\n",
    "\n",
    "for row in range(size):\n",
    "    for col in range(size):\n",
    "        true[row][col] = math.sqrt(math.cos( (math.pi * row * h) / 3) * math.sin( (math.pi * col * h) / 2))\n",
    "        \n",
    "for col in true:\n",
    "    print(col)"
   ]
  },
  {
   "cell_type": "markdown",
   "metadata": {},
   "source": [
    "### Разностная схема\n",
    "\n",
    "Аппроксимируем производные по схеме \"крест\", сетка с одинаковым по обоим измерениям шагом $ h $, узловые точки $u_{m,n}$ ($n, m$ пробегают от 0 до $N = \\dfrac{1}{h}$). \n",
    "\n",
    "Обозначим $ \\dfrac{\\partial}{\\partial x}\\left(u \\dfrac{\\partial u}{\\partial x}\\right) = u_x, \\; \\dfrac{\\partial}{\\partial y}\\left(u \\dfrac{\\partial u}{\\partial y}\\right) = u_y $, аппроксимация дает:"
   ]
  },
  {
   "cell_type": "markdown",
   "metadata": {},
   "source": [
    "$$ u_x \\approx \\dfrac{1}{h}\\left(u_{m+0.5,n} \\cdot \\dfrac{u_{m+1,n} - u_{m,n}}{h} - u_{m-0.5,n} \\cdot \\dfrac{u_{m,n} - u_{m-1,n}}{h} \\right)$$\n",
    "\n",
    "$$u_y \\approx \\dfrac{1}{h}\\left(u_{m,n+0.5} \\cdot \\dfrac{u_{m,n+1} - u_{m,n}}{h} - u_{m,n-0.5} \\cdot \\dfrac{u_{m,n} - u_{m,n-1}}{h} \\right)$$"
   ]
  },
  {
   "cell_type": "markdown",
   "metadata": {},
   "source": [
    "Точки в половинных узлах аппроксимируем средним арифметическим значений в ближайших узлах. Например, $u_{m+0.5,n} = \\dfrac{u_{m,n} + u_{m+1,n}}{2}$. Получаем:"
   ]
  },
  {
   "cell_type": "markdown",
   "metadata": {},
   "source": [
    "$$ u_x \\approx \\dfrac{1}{2h^2}\\left((u_{m+1,n})^2 + (u_{m-1,n})^2 - 2(u_{m,n})^2 \\right)$$\n",
    "\n",
    "$$ u_y \\approx \\dfrac{1}{2h^2}\\left((u_{m,n+1})^2 + (u_{m,n-1})^2 - 2(u_{m,n})^2 \\right)$$"
   ]
  },
  {
   "cell_type": "markdown",
   "metadata": {},
   "source": [
    "Отсюда наша разностная задача: \n",
    "    \n",
    "$$ \\dfrac{1}{2h^2}\\left((u_{m+1,n})^2 + (u_{m-1,n})^2 - 2(u_{m,n})^2 \\right) + \\dfrac{1}{2h^2}\\left((u_{m,n+1})^2 + (u_{m,n-1})^2 - 2(u_{m,n})^2 \\right) = - \\dfrac{13\\pi^2}{72}\\cos\\left(\\dfrac{\\pi x_m}{3}\\right) \\sin\\left(\\dfrac{\\pi y_n}{2}\\right), $$\n",
    "\n",
    "Где $x_m = hm$, $y_n = hn$. Граничные условия получаем в виде\n",
    "\n",
    "$u_{m, 0} = \\sqrt{\\sin\\left(\\dfrac{\\pi y_n}{2}\\right)}$ \n",
    "\n",
    "$u_{m, N} = \\sqrt{\\dfrac12 \\sin\\left(\\dfrac{\\pi y_n}{2}\\right)}$\n",
    "\n",
    "$u_{0, n} = 0 $ \n",
    "\n",
    "$u_{N, n} = \\sqrt{\\sin\\left(\\dfrac{\\pi x_m}{3}\\right)}$"
   ]
  },
  {
   "cell_type": "markdown",
   "metadata": {},
   "source": [
    "### Нестационарная задача\n",
    "\n",
    "Рассмотрим нестационарную задачу: \n",
    "\n",
    "$$\\dfrac{\\partial u}{\\partial t} = u_x + u_y + \\dfrac{13\\pi^2}{72}\\cos\\left(\\dfrac{\\pi x_m}{3}\\right) \\sin\\left(\\dfrac{\\pi y_n}{2}\\right)$$\n",
    "\n",
    "Ее решение при достаточно большом $t$ сходится к решению нестационарной задачи. \n",
    "\n",
    "Решим нестационарную задачу $\\textbf{методом простых итераций}$. Для этого аппроксимируем производную по времени: \n",
    "\n",
    "$\\dfrac{\\partial u}{\\partial t} = \\dfrac{u^{s+1} - u^s}{\\tau}$\n",
    "\n",
    "Здесь $s$ – узел сетки по времени и одновременно порядок итерации, $\\tau$ – временной шаг."
   ]
  },
  {
   "cell_type": "markdown",
   "metadata": {},
   "source": [
    "Таким образом, нестационарная разностная задача:\n",
    "    \n",
    "$$\\dfrac{u^{s+1}_{m,n} - u^s_{m,n}}{\\tau} = \\dfrac{1}{2h^2}\\left((u^s_{m+1,n})^2 + (u^s_{m-1,n})^2 - 2(u^s_{m,n})^2 \\right) + \\dfrac{1}{2h^2}\\left((u^s_{m,n+1})^2 + (u^s_{m,n-1})^2 - 2(u^s_{m,n})^2 \\right) + \\dfrac{13\\pi^2}{32}\\cos\\left(\\dfrac{\\pi x_m}{3}\\right) \\sin\\left(\\dfrac{\\pi y_n}{2}\\right)$$\n",
    "\n",
    "C описанными выше граничными условиями."
   ]
  },
  {
   "cell_type": "markdown",
   "metadata": {},
   "source": [
    "Выражение для «нового» значения в узле $(m,n)$:\n",
    "\n",
    "$u^{s+1}_{m,n} = u^s_{m,n} - \\tau \\dfrac{13\\pi^2}{72}\\cos\\left(\\dfrac{\\pi x_m}{3}\\right) \\sin\\left(\\dfrac{\\pi y_n}{2}\\right) + \\dfrac{\\tau}{2h^2}\\left((u^s_{m-1,n})^2 + (u^s_{m+1,n})^2 + (u^s_{m,n-1})^2 + (u^s_{m,n+1})^2 - 4(u^s_{m,n})^2 \\right)$"
   ]
  },
  {
   "cell_type": "markdown",
   "metadata": {},
   "source": [
    "### Численное решение задачи на языке Python 3"
   ]
  },
  {
   "cell_type": "markdown",
   "metadata": {},
   "source": [
    "Шаг сетки выберем равным по условию $h_x = h_y = h = 0.2$. "
   ]
  },
  {
   "cell_type": "code",
   "execution_count": 320,
   "metadata": {},
   "outputs": [],
   "source": [
    "h = 0.2"
   ]
  },
  {
   "cell_type": "markdown",
   "metadata": {},
   "source": [
    "Вычислим $\\lambda_{min}$ и $\\lambda_{max}$ – минимальное и максимальное собственные значения оператора Лапласа. В дальнейшем они будут использованы для выбора $\\tau$ и количества итераций метода. С учетом того, что длины отрезков по $ x $ и по $ y $ равны ($ l_x = l_y = 1 $), получаем:\n",
    "\n",
    "$\\lambda_{min} = \\dfrac{\\pi^2}{l_x} + \\dfrac{\\pi^2}{l_y} = 2\\pi^2$\n",
    "\n",
    "$\\lambda_{max} = \\dfrac{4}{h_x^2}+\\dfrac{4}{h_y^2}-\\dfrac{\\pi^2}{l_1} - \\dfrac{\\pi^2}{l_2} = \\dfrac{8}{h^2} - 2\\pi^2$\n",
    "\n",
    "Численно:"
   ]
  },
  {
   "cell_type": "code",
   "execution_count": 312,
   "metadata": {},
   "outputs": [
    {
     "data": {
      "text/latex": [
       "$\\displaystyle \\lambda_{min} = 19.739208802178716$"
      ],
      "text/plain": [
       "<IPython.core.display.Math object>"
      ]
     },
     "metadata": {},
     "output_type": "display_data"
    },
    {
     "data": {
      "text/latex": [
       "$\\displaystyle \\lambda_{max} = 793.7168146928203$"
      ],
      "text/plain": [
       "<IPython.core.display.Math object>"
      ]
     },
     "metadata": {},
     "output_type": "display_data"
    }
   ],
   "source": [
    "lambda_min = 2 * math.pi * math.pi\n",
    "print_math(r'\\lambda_{min} = %s' %lambda_min)\n",
    "lambda_max = (8 / h ** 2.) - 2 * math.pi\n",
    "print_math(r'\\lambda_{max} = %s' %lambda_max)"
   ]
  },
  {
   "cell_type": "code",
   "execution_count": 313,
   "metadata": {},
   "outputs": [
    {
     "data": {
      "text/latex": [
       "$\\displaystyle Метод \\; простых \\; итераций \\; сходится \\;, если \\; \\tau < \\dfrac{2}{\\lambda_{max}}< 0.0025197903874242963$"
      ],
      "text/plain": [
       "<IPython.core.display.Math object>"
      ]
     },
     "metadata": {},
     "output_type": "display_data"
    },
    {
     "data": {
      "text/latex": [
       "$\\displaystyle Выберем \\; \\tau = \\dfrac{2}{\\lambda_{min} + \\lambda_{max}} = 0.002458645510309256$"
      ],
      "text/plain": [
       "<IPython.core.display.Math object>"
      ]
     },
     "metadata": {},
     "output_type": "display_data"
    }
   ],
   "source": [
    "tau_max = 2 / lambda_max\n",
    "tau = 2 / (lambda_min + lambda_max)\n",
    "print_math(r\"Метод \\; простых \\; итераций \\; сходится \\;, если \\; \\tau < \\dfrac{2}{\\lambda_{max}}< %s\" %tau_max)\n",
    "print_math(r\"Выберем \\; \\tau = \\dfrac{2}{\\lambda_{min} + \\lambda_{max}} = %s\" % tau)"
   ]
  },
  {
   "cell_type": "markdown",
   "metadata": {},
   "source": [
    "Количество итераций $S$, необходимых для обеспечения сходимости с заданной точностью $\\varepsilon = 0.01$, равно: \n",
    "\n",
    "$S = \\dfrac{\\ln\\varepsilon}{\\ln\\rho}$, где $\\rho = \\dfrac{1 - \\xi}{1 + \\xi}$, $\\xi = \\dfrac{\\lambda_{min}}{\\lambda_{max}}$"
   ]
  },
  {
   "cell_type": "markdown",
   "metadata": {},
   "source": [
    "Вычислим число итераций:"
   ]
  },
  {
   "cell_type": "code",
   "execution_count": 314,
   "metadata": {},
   "outputs": [
    {
     "data": {
      "text/latex": [
       "$\\displaystyle \\xi = 0.02486933429754549 \\\\ \\rho = 0.9514682829014665 \\\\ S = 92.56823215621702$"
      ],
      "text/plain": [
       "<IPython.core.display.Math object>"
      ]
     },
     "metadata": {},
     "output_type": "display_data"
    }
   ],
   "source": [
    "epsilon = 0.01\n",
    "xi = lambda_min / lambda_max\n",
    "rho = (1 - xi) / (1 + xi)\n",
    "S = math.log(epsilon) / math.log(rho)\n",
    "print_math(r\"\\xi = %s \\\\ \\rho = %s \\\\ S = %s\" % (xi, rho, S))"
   ]
  },
  {
   "cell_type": "code",
   "execution_count": 98,
   "metadata": {},
   "outputs": [
    {
     "data": {
      "text/latex": [
       "$\\displaystyle Установим \\; количество \\; итераций \\; \\mathrm{total} = 23 > S$"
      ],
      "text/plain": [
       "<IPython.core.display.Math object>"
      ]
     },
     "metadata": {},
     "output_type": "display_data"
    }
   ],
   "source": [
    "total = int(S) + 1\n",
    "print_math(\"Установим \\; количество \\; итераций \\; \\mathrm{total} = %s > S\" %total)"
   ]
  },
  {
   "cell_type": "markdown",
   "metadata": {},
   "source": [
    "Подсчитаем теперь итерации:\n",
    "\n",
    "Функция для подсчета правой части, обозначенную для удобства $ R = -\\dfrac{13\\pi^2}{72}\\cos\\left(\\dfrac{\\pi x_m}{3}\\right) \\sin\\left(\\dfrac{\\pi y_n}{2}\\right) $ в узле $ (m, n) $:"
   ]
  },
  {
   "cell_type": "code",
   "execution_count": 252,
   "metadata": {},
   "outputs": [],
   "source": [
    "def get_right(m, n):\n",
    "    result = (- 13 * math.pi ** 2 / 72) * math.cos(math.pi * h * m / 3) * math.sin(math.pi * h * n / 2)\n",
    "    return result"
   ]
  },
  {
   "cell_type": "code",
   "execution_count": 366,
   "metadata": {},
   "outputs": [
    {
     "data": {
      "text/latex": [
       "$\\displaystyle В \\; узле \\; (1, 1) \\; \\left.R\\right|_{m, n = 1} = -0.5386384594545336$"
      ],
      "text/plain": [
       "<IPython.core.display.Math object>"
      ]
     },
     "metadata": {},
     "output_type": "display_data"
    }
   ],
   "source": [
    "print_math(r'В \\; узле \\; (1, 1) \\; \\left.R\\right|_{m, n = 1} = %s' % get_right(1, 1))"
   ]
  },
  {
   "cell_type": "markdown",
   "metadata": {},
   "source": [
    "Теперь выполним подсчет«нового» значения в узле $ (m, n) $.\n",
    "\n",
    "Пусть $U = \\left((u^s_{m-1,n})^2 + (u^s_{m+1,n})^2 + (u^s_{m,n-1})^2 + (u^s_{m,n+1})^2 - 4(u^s_{m,n})^2 \\right)$\n",
    "\n",
    "$ \\widetilde{R} = u^s_{m, n} - \\tau  R + \\dfrac{\\tau}{2h^2} U $\n",
    "\n",
    "Таким образом, наша функция:"
   ]
  },
  {
   "cell_type": "code",
   "execution_count": 254,
   "metadata": {},
   "outputs": [],
   "source": [
    "def get_new(old, m, n):\n",
    "    combination = (old[m - 1][n]) ** 2 + (old[m + 1][n]) ** 2 + (old[m][n - 1]) ** 2 + (old[m][n + 1]) ** 2\n",
    "    result = old[m][n] - tau * get_right(m, n) + (tau / (2 * h ** 2)) * (combination - 4 * (old[m][n]) ** 2)\n",
    "    \n",
    "    return result"
   ]
  },
  {
   "cell_type": "markdown",
   "metadata": {},
   "source": [
    "Теперь проведем итерации для нулевых начальных значений во всех узлах с учетом граничных условий."
   ]
  },
  {
   "cell_type": "code",
   "execution_count": 321,
   "metadata": {},
   "outputs": [],
   "source": [
    "#Создадим массивы:\n",
    "size = int(1 / h + 1)\n",
    "old = np.zeros((size, size))\n",
    "set_values = np.zeros((size, size))\n",
    "\n",
    "#Введем начальные значения:\n",
    "for row in range(size):\n",
    "    old[row][size - 1] = math.sqrt(math.cos(math.pi * h * row / 2))\n",
    "    \n",
    "    old[0][row] = math.sqrt(math.sin(math.pi * h * row / 2))\n",
    "    old[size - 1][row] = math.sqrt(0.5 * math.sin(math.pi * h * row / 2))"
   ]
  },
  {
   "cell_type": "markdown",
   "metadata": {},
   "source": [
    "Таким образом, после начальных условий получаем:"
   ]
  },
  {
   "cell_type": "code",
   "execution_count": 256,
   "metadata": {
    "scrolled": true
   },
   "outputs": [
    {
     "name": "stdout",
     "output_type": "stream",
     "text": [
      "[0.     0.5559 0.7667 0.8995 0.9752 1.    ]\n",
      "[0.     0.     0.     0.     0.     0.9752]\n",
      "[0.     0.     0.     0.     0.     0.8995]\n",
      "[0.     0.     0.     0.     0.     0.7667]\n",
      "[0.     0.     0.     0.     0.     0.5559]\n",
      "[0.     0.3931 0.5421 0.636  0.6896 0.7071]\n"
     ]
    }
   ],
   "source": [
    "np.set_printoptions(precision=4)\n",
    "for col in old:\n",
    "    print(col)"
   ]
  },
  {
   "cell_type": "markdown",
   "metadata": {},
   "source": [
    "Теперь проведем итерации:"
   ]
  },
  {
   "cell_type": "code",
   "execution_count": 372,
   "metadata": {},
   "outputs": [
    {
     "name": "stdout",
     "output_type": "stream",
     "text": [
      "[0.     0.5559 0.7667 0.8995 0.9752 1.    ]\n",
      "[0.     0.2892 0.4743 0.6429 0.8234 0.9752]\n",
      "[0.     0.0656 0.1588 0.3448 0.6568 0.8995]\n",
      "[0.     0.0402 0.0911 0.2189 0.5308 0.7667]\n",
      "[0.     0.1586 0.2741 0.3824 0.5187 0.5559]\n",
      "[0.     0.3931 0.5421 0.636  0.6896 0.7071]\n"
     ]
    }
   ],
   "source": [
    "for iteration in range(total):\n",
    "    for row in range(1, size - 1):\n",
    "        for col in range(1, size - 1):\n",
    "            set_values[row][col] = get_new(old, row, col)\n",
    "    \n",
    "    old = set_values\n",
    "    for row in range(size):\n",
    "        old[row][size - 1] = math.sqrt(math.cos(math.pi * h * row / 2))\n",
    "        old[0][row] = math.sqrt(math.sin(math.pi * h * row / 2)); \n",
    "        old[size - 1][row] = math.sqrt(0.5 * math.sin(math.pi * h * row / 2))\n",
    "    \n",
    "for col in set_values:\n",
    "    print(col)"
   ]
  },
  {
   "cell_type": "markdown",
   "metadata": {},
   "source": [
    "Сравним полученные значения, вычитая истинные значения из приближенных:"
   ]
  },
  {
   "cell_type": "code",
   "execution_count": 373,
   "metadata": {},
   "outputs": [
    {
     "name": "stdout",
     "output_type": "stream",
     "text": [
      "[0. 0. 0. 0. 0. 0.]\n",
      "[0.     0.2606 0.2839 0.2466 0.1411 0.0138]\n",
      "[0.     0.4657 0.574  0.5149 0.2753 0.0563]\n",
      "[0.     0.4598 0.5985 0.5901 0.3464 0.1328]\n",
      "[0.     0.2961 0.353  0.3534 0.279  0.2621]\n",
      "[0.0000e+00 0.0000e+00 1.1102e-16 0.0000e+00 1.1102e-16 0.0000e+00]\n"
     ]
    }
   ],
   "source": [
    "r_mpi = true - set_values\n",
    "for col in r_mpi:\n",
    "    print(col)"
   ]
  },
  {
   "cell_type": "markdown",
   "metadata": {},
   "source": [
    "Видно, что аппроксимация прошла успешно."
   ]
  },
  {
   "cell_type": "markdown",
   "metadata": {},
   "source": [
    "### Метод Якоби\n",
    "\n",
    "Рассмотрим разностную задачу: \n",
    "\n",
    "$\\dfrac{1}{2h^2}\\left((u^s_{m+1,n})^2 + (u^s_{m-1,n})^2 - 2(u^{s+1}_{m,n})^2 \\right) + \\dfrac{1}{2h^2}\\left((u^s_{m,n+1})^2 + (u^s_{m,n-1})^2 - 2(u^{s+1}_{m,n})^2 \\right) = -\\dfrac{13\\pi^2}{72}\\cos\\left(\\dfrac{\\pi x_m}{3}\\right) \\sin\\left(\\dfrac{\\pi y_n}{2}\\right)$\n",
    "\n",
    "$ s $ – порядок итерации. \n",
    "\n",
    "Выражение для «нового» значения в узле $(m, n)$:\n",
    "\n",
    "$(u^{s+1}_{m,n})^2 = \\dfrac{h^2}{2} \\dfrac{13\\pi^2}{72}\\cos\\left(\\dfrac{\\pi x_m}{3}\\right) \\sin\\left(\\dfrac{\\pi y_n}{2}\\right) + \\dfrac{1}{4}\\left((u^s_{m-1,n})^2 + (u^s_{m+1,n})^2 + (u^s_{m,n-1})^2 + (u^s_{m,n+1})^2\\right)$\n",
    "\n",
    "Проведем аналогичные численные вычисления для нашей задачи. Число итераций и шаг сетки берем те же, что при МПИ."
   ]
  },
  {
   "cell_type": "markdown",
   "metadata": {},
   "source": [
    "Выполним подсчет«нового» значения в узле $ (m, n) $:"
   ]
  },
  {
   "cell_type": "code",
   "execution_count": 377,
   "metadata": {},
   "outputs": [],
   "source": [
    "# подсчет нового значения в узле (m, n)\n",
    "\n",
    "def get_Jacoby(old, m, n):\n",
    "    combination = (old[m - 1][n]) ** 2 + (old[m + 1][n]) ** 2 + (old[m][n - 1]) ** 2 + (old[m][n + 1]) ** 2\n",
    "    result = combination / 4 - (h ** 2 / 2) * get_right(m, n)\n",
    "    \n",
    "    return result"
   ]
  },
  {
   "cell_type": "code",
   "execution_count": 378,
   "metadata": {},
   "outputs": [
    {
     "name": "stdout",
     "output_type": "stream",
     "text": [
      "[0.     0.5559 0.7667 0.8995 0.9752 1.    ]\n",
      "[0.     0.5442 0.7492 0.8766 0.9481 0.9752]\n",
      "[0.     0.5207 0.7149 0.8317 0.89   0.8995]\n",
      "[0.     0.4868 0.6661 0.768  0.8033 0.7667]\n",
      "[0.     0.4445 0.6076 0.6968 0.7082 0.5559]\n",
      "[0.     0.3931 0.5421 0.636  0.6896 0.7071]\n"
     ]
    }
   ],
   "source": [
    "# реализация итераций\n",
    "# начальные значения во всех узлах нулевые\n",
    "\n",
    "size = int(1 / h + 1.)\n",
    "old_j = np.zeros((size, size))\n",
    "jacoby = np.zeros((size, size))\n",
    "\n",
    "for row in range(size):\n",
    "    old_j[row][size - 1] = math.sqrt(math.cos(math.pi * h * row / 2))\n",
    "    \n",
    "    old_j[0][row] = math.sqrt(math.sin(math.pi * h * row / 2))\n",
    "    old_j[size - 1][row] = math.sqrt(0.5 * math.sin(math.pi * h * row / 2))\n",
    "\n",
    "for iteration in range(total):\n",
    "    for row in range(1, size - 1):\n",
    "        for col in range(1, size - 1):\n",
    "            jacoby[row][col] = math.sqrt(get_Jacoby(old_j, row, col))\n",
    "    \n",
    "    old_j = jacoby\n",
    "    for row in range(size):\n",
    "        old_j[row][size - 1] = math.sqrt(math.cos(math.pi * h * row / 2))\n",
    "    \n",
    "        old_j[0][row] = math.sqrt(math.sin(math.pi * h * row / 2))\n",
    "        old_j[size - 1][row] = math.sqrt(0.5 * math.sin(math.pi * h * row / 2))\n",
    "    \n",
    "for col in jacoby:\n",
    "    print(col)"
   ]
  },
  {
   "cell_type": "markdown",
   "metadata": {},
   "source": [
    "$\\textbf{8. Сравнение численного и аналитического решений}$\n",
    "\n",
    "Сравним полученные значения, вычитая истинные значения из приближенных:"
   ]
  },
  {
   "cell_type": "code",
   "execution_count": 379,
   "metadata": {},
   "outputs": [
    {
     "name": "stdout",
     "output_type": "stream",
     "text": [
      "[0. 0. 0. 0. 0. 0.]\n",
      "[0.     0.0056 0.009  0.013  0.0164 0.0138]\n",
      "[0.     0.0107 0.0179 0.028  0.0421 0.0563]\n",
      "[0.     0.0132 0.0235 0.041  0.0739 0.1328]\n",
      "[0.     0.0103 0.0195 0.0389 0.0895 0.2621]\n",
      "[0.0000e+00 0.0000e+00 1.1102e-16 0.0000e+00 1.1102e-16 0.0000e+00]\n"
     ]
    }
   ],
   "source": [
    "rj = true - jacoby\n",
    "for col in rj:\n",
    "    print(col)"
   ]
  },
  {
   "cell_type": "markdown",
   "metadata": {},
   "source": [
    "Видно, что аппроксимация прошла успешно."
   ]
  },
  {
   "cell_type": "markdown",
   "metadata": {},
   "source": [
    "$\\textbf{9. Сравнение метода простой итерации и метода Якоби}$\n",
    "\n",
    "Сравним эвклидову норму разности истинного решения и численного по методу простых итераций $msi\\_norm$ и эвклидову норму разности истинного решения и численного по методу Якоби $jacoby\\_norm$. "
   ]
  },
  {
   "cell_type": "code",
   "execution_count": 386,
   "metadata": {},
   "outputs": [
    {
     "data": {
      "text/latex": [
       "$\\displaystyle ||MSI_n|| = 1.630641588584048$"
      ],
      "text/plain": [
       "<IPython.core.display.Math object>"
      ]
     },
     "metadata": {},
     "output_type": "display_data"
    },
    {
     "data": {
      "text/latex": [
       "$\\displaystyle ||J_n|| = 0.33334646994792355$"
      ],
      "text/plain": [
       "<IPython.core.display.Math object>"
      ]
     },
     "metadata": {},
     "output_type": "display_data"
    }
   ],
   "source": [
    "msi_n = sla.norm(true - set_values)\n",
    "jacoby_n = sla.norm(true - jacoby)\n",
    "\n",
    "print_math(r\"||MSI_n|| = %s\" % msi_n)\n",
    "print_math(r\"||J_n|| = %s\" % jacoby_n)"
   ]
  },
  {
   "cell_type": "code",
   "execution_count": 382,
   "metadata": {},
   "outputs": [],
   "source": [
    "# подсчет правой части в точках m, n\n",
    "\n",
    "def get_right_part(m, n):\n",
    "    ans =  (- 5 * math.pi ** 2 / 9) * (math.sin(math.pi * h * m / 3) + math.cos(math.pi * h * m / 3)) * math.sin(math.pi * h * n)\n",
    "    return ans"
   ]
  },
  {
   "cell_type": "code",
   "execution_count": 340,
   "metadata": {},
   "outputs": [],
   "source": [
    "def get_new_value(prev_values, m, n):\n",
    "    combination = (prev_values[m - 1][n]) ** 2 + (prev_values[m + 1][n]) ** 2 + (prev_values[m][n - 1]) ** 2 + (prev_values[m][n + 1]) ** 2\n",
    "    ans = prev_values[m][n] - tau * get_right_part(m, n) + (tau / (2 * h * h)) * (combination - 4 * (prev_values[m][n]) ** 2)\n",
    "    \n",
    "    return ans"
   ]
  },
  {
   "cell_type": "code",
   "execution_count": 345,
   "metadata": {},
   "outputs": [
    {
     "name": "stdout",
     "output_type": "stream",
     "text": [
      "[0.     0.5559 0.7667 0.8995 0.9752 1.    ]\n",
      "[0.     0.4006 0.6091 0.737  0.8518 0.9752]\n",
      "[0.     0.2803 0.4512 0.5502 0.704  0.8995]\n",
      "[0.     0.2787 0.4379 0.5058 0.6075 0.7667]\n",
      "[0.     0.3483 0.5226 0.5919 0.6066 0.5559]\n",
      "[0.     0.3931 0.5421 0.636  0.6896 0.7071]\n"
     ]
    }
   ],
   "source": [
    "#реализация итераций\n",
    "# начальные значения во всех узлах нулевые\n",
    "\n",
    "size = int(1 / h + 1.)\n",
    "prev_values = np.zeros((size, size))\n",
    "cur_values = np.zeros((size, size))\n",
    "\n",
    "for row in range(size):\n",
    "#     prev_values[row][size - 1] = math.sqrt(math.cos(math.pi * h * row / 2))\n",
    "    \n",
    "    prev_values[0][row] = math.sqrt(math.sin(math.pi * h * row))\n",
    "    prev_values[size - 1][row] = math.sqrt((1 + math.sqrt(3)) * 0.5 * math.sin(math.pi * h * row / 2))\n",
    "\n",
    "for it in range(total):\n",
    "    for row in range(1, size - 1):\n",
    "        for col in range(1, size - 1):\n",
    "            cur_values[row][col] = get_new_value(prev_values, row, col)\n",
    "    \n",
    "    prev_values = cur_values\n",
    "    for row in range(size):\n",
    "        prev_values[row][size - 1] = math.sqrt(math.cos(math.pi * h * row / 2))\n",
    "    \n",
    "        prev_values[0][row] = math.sqrt(math.sin(math.pi * h * row / 2))\n",
    "        prev_values[size - 1][row] = math.sqrt(0.5 * math.sin(math.pi * h * row / 2))\n",
    "    \n",
    "for x in cur_values:\n",
    "    print(x)"
   ]
  },
  {
   "cell_type": "code",
   "execution_count": 355,
   "metadata": {},
   "outputs": [
    {
     "name": "stdout",
     "output_type": "stream",
     "text": [
      "[0.0000e+00 7.6667e-01 9.7522e-01 9.7522e-01 7.6667e-01 1.1066e-08]\n",
      "[0.0000e+00 8.3495e-01 1.0621e+00 1.0621e+00 8.3495e-01 1.2052e-08]\n",
      "[0.0000e+00 8.8093e-01 1.1206e+00 1.1206e+00 8.8093e-01 1.2716e-08]\n",
      "[0.0000e+00 9.0610e-01 1.1526e+00 1.1526e+00 9.0610e-01 1.3079e-08]\n",
      "[0.0000e+00 9.1111e-01 1.1589e+00 1.1589e+00 9.1111e-01 1.3151e-08]\n",
      "[0.0000e+00 8.9606e-01 1.1398e+00 1.1398e+00 8.9606e-01 1.2934e-08]\n"
     ]
    }
   ],
   "source": [
    "true_values = np.zeros((size, size))\n",
    "\n",
    "for row in range(size):\n",
    "    for col in range(size):\n",
    "        true_values[row][col] = math.sqrt((math.sin(math.pi * h * row / 3) + math.cos(math.pi * h * row / 3)) * math.sin(math.pi * h * col))\n",
    "        \n",
    "for x in true_values:\n",
    "    print(x)"
   ]
  },
  {
   "cell_type": "code",
   "execution_count": 354,
   "metadata": {},
   "outputs": [
    {
     "data": {
      "text/plain": [
       "array([[ 0.    , -0.2108, -0.2085, -0.0758,  0.2085,  1.    ],\n",
       "       [ 0.    , -0.4344, -0.453 , -0.325 ,  0.0169,  0.9752],\n",
       "       [ 0.    , -0.6006, -0.6694, -0.5703, -0.1769,  0.8995],\n",
       "       [ 0.    , -0.6274, -0.7147, -0.6468, -0.2986,  0.7667],\n",
       "       [ 0.    , -0.5628, -0.6364, -0.567 , -0.3045,  0.5559],\n",
       "       [ 0.    , -0.503 , -0.5977, -0.5038, -0.2065,  0.7071]])"
      ]
     },
     "execution_count": 354,
     "metadata": {},
     "output_type": "execute_result"
    }
   ],
   "source": [
    "cur_values - true_values"
   ]
  },
  {
   "cell_type": "code",
   "execution_count": null,
   "metadata": {},
   "outputs": [],
   "source": []
  }
 ],
 "metadata": {
  "kernelspec": {
   "display_name": "Python 3",
   "language": "python",
   "name": "python3"
  },
  "language_info": {
   "codemirror_mode": {
    "name": "ipython",
    "version": 3
   },
   "file_extension": ".py",
   "mimetype": "text/x-python",
   "name": "python",
   "nbconvert_exporter": "python",
   "pygments_lexer": "ipython3",
   "version": "3.7.1"
  }
 },
 "nbformat": 4,
 "nbformat_minor": 2
}
