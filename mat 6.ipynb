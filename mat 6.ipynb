{
 "cells": [
  {
   "cell_type": "markdown",
   "metadata": {},
   "source": [
    "# Проект по вычислительной математике, VI семестр\n",
    "## Иванов Кирилл, 625 группа, вариант 5\n",
    "\n",
    "Импортируем необходимые библиотеки:"
   ]
  },
  {
   "cell_type": "code",
   "execution_count": 867,
   "metadata": {},
   "outputs": [],
   "source": [
    "import numpy as np \n",
    "import scipy.linalg as sla\n",
    "import math\n",
    "import matplotlib.pyplot as plt\n",
    "\n",
    "%matplotlib inline\n",
    "\n",
    "#Функция для отображения вывода результата вычислений Python в формате LaTeX\n",
    "from IPython.display import display, Math, Latex\n",
    "def print_math(string):\n",
    "    display(Math(string))"
   ]
  },
  {
   "cell_type": "markdown",
   "metadata": {},
   "source": [
    "## Формулировка задачи\n",
    "\n",
    "$$\\dfrac{\\partial}{\\partial x}\\left(u \\dfrac{\\partial u}{\\partial x}\\right) + \\dfrac{\\partial}{\\partial y}\\left(u \\dfrac{\\partial u}{\\partial y}\\right) = - \\dfrac{13\\pi^2}{72}\\cos\\left(\\dfrac{\\pi x}{3}\\right) \\sin\\left(\\dfrac{\\pi y}{2}\\right),$$\n",
    "$$ x \\in (0, 1), y \\in (0, 1)$$\n",
    "\n",
    "$u(0, y) = \\sqrt{\\sin\\left(\\dfrac{\\pi y}{2}\\right)}$ \n",
    "\n",
    "$u(1, y) = \\sqrt{\\dfrac12 \\sin\\left(\\dfrac{\\pi y}{2}\\right)}$\n",
    "\n",
    "$u(x, 0) = 0 $ \n",
    "\n",
    "$u(x, 1) = \\sqrt{\\sin\\left(\\dfrac{\\pi x}{3}\\right)}$"
   ]
  },
  {
   "cell_type": "markdown",
   "metadata": {},
   "source": [
    "### Аналитическое решение задачи\n",
    "\n",
    "Замена $W = u^2$, при которой исходное уравнение принимает вид:\n",
    "\n",
    "$$ \\Delta W = - \\dfrac{13\\pi^2}{36}\\cos\\left(\\dfrac{\\pi x}{3}\\right) \\sin\\left(\\dfrac{\\pi y}{2}\\right) $$\n",
    "\n",
    "Ищем решение в виде $W = C \\cos\\left(\\dfrac{\\pi x}{3}\\right) \\sin\\left(\\dfrac{\\pi y}{2}\\right)$. Подстановка дает: \n",
    "\n",
    "$$ C \\cdot \\left(-\\dfrac{\\pi^2}{9}\\right) \\cos\\left(\\dfrac{\\pi x}{3}\\right) \\sin\\left(\\dfrac{\\pi y}{2}\\right) + C \\cdot \\left(-\\dfrac{\\pi^2}{4}\\right)  \\cos\\left(\\dfrac{\\pi x}{3}\\right) \\sin\\left(\\dfrac{\\pi y}{2}\\right) = - \\dfrac{13\\pi^2}{36} \\cos\\left(\\dfrac{\\pi x}{3}\\right) \\sin\\left(\\dfrac{\\pi y}{2}\\right), $$\n",
    "\n",
    "$$ C \\left( \\dfrac19 + \\dfrac14 \\right) = \\dfrac{13}{36} \\Rightarrow C \\cdot \\dfrac{13}{36} = \\dfrac{13}{36} \\Rightarrow C = 1 $$\n",
    "\n",
    "Получаем $W = \\cos\\left(\\dfrac{\\pi x}{3}\\right) \\sin\\left(\\dfrac{\\pi y}{2}\\right)$, откуда исходная функция\n",
    "\n",
    "$$ u =  \\sqrt{ \\cos\\left(\\dfrac{\\pi x}{3}\\right) \\sin\\left(\\dfrac{\\pi y}{2}\\right)}$$"
   ]
  },
  {
   "cell_type": "markdown",
   "metadata": {},
   "source": [
    "Вычислим истинные значения в узлах сеточной функции."
   ]
  },
  {
   "cell_type": "code",
   "execution_count": 868,
   "metadata": {},
   "outputs": [
    {
     "name": "stdout",
     "output_type": "stream",
     "text": [
      "[0.     0.5559 0.7667 0.8995 0.9752 1.    ]\n",
      "[0.     0.5498 0.7582 0.8896 0.9645 0.989 ]\n",
      "[0.     0.5313 0.7328 0.8597 0.9321 0.9558]\n",
      "[0.     0.5    0.6896 0.809  0.8772 0.8995]\n",
      "[0.     0.4547 0.6271 0.7358 0.7977 0.818 ]\n",
      "[0.     0.3931 0.5421 0.636  0.6896 0.7071]\n"
     ]
    }
   ],
   "source": [
    "t = np.zeros((size, size))\n",
    "\n",
    "for row in range(size):\n",
    "    for col in range(size):\n",
    "        t[row][col] = math.sqrt(math.cos( (math.pi * row * h) / 3) * math.sin( (math.pi * col * h) / 2))\n",
    "        \n",
    "for col in t:\n",
    "    print(col)"
   ]
  },
  {
   "cell_type": "markdown",
   "metadata": {},
   "source": [
    "### Разностная схема\n",
    "\n",
    "Аппроксимируем производные по схеме «крест», сетка с одинаковым по обоим измерениям шагом $ h $, узловые точки $u_{m,n}$ ($n, m$ пробегают от 0 до $N = \\dfrac{1}{h}$). \n",
    "\n",
    "Обозначим $ \\dfrac{\\partial}{\\partial x}\\left(u \\dfrac{\\partial u}{\\partial x}\\right) = u_x, \\; \\dfrac{\\partial}{\\partial y}\\left(u \\dfrac{\\partial u}{\\partial y}\\right) = u_y $, аппроксимация дает:"
   ]
  },
  {
   "cell_type": "markdown",
   "metadata": {},
   "source": [
    "$$ u_x \\approx \\dfrac{1}{h}\\left(u_{m+0.5,n} \\cdot \\dfrac{u_{m+1,n} - u_{m,n}}{h} - u_{m-0.5,n} \\cdot \\dfrac{u_{m,n} - u_{m-1,n}}{h} \\right)$$\n",
    "\n",
    "$$u_y \\approx \\dfrac{1}{h}\\left(u_{m,n+0.5} \\cdot \\dfrac{u_{m,n+1} - u_{m,n}}{h} - u_{m,n-0.5} \\cdot \\dfrac{u_{m,n} - u_{m,n-1}}{h} \\right)$$"
   ]
  },
  {
   "cell_type": "markdown",
   "metadata": {},
   "source": [
    "Точки в половинных узлах аппроксимируем средним арифметическим значений в ближайших узлах. Например, $u_{m+0.5,n} = \\dfrac{u_{m,n} + u_{m+1,n}}{2}$. Получаем:"
   ]
  },
  {
   "cell_type": "markdown",
   "metadata": {},
   "source": [
    "$$ u_x \\approx \\dfrac{1}{2h^2}\\left((u_{m+1,n})^2 + (u_{m-1,n})^2 - 2(u_{m,n})^2 \\right)$$\n",
    "\n",
    "$$ u_y \\approx \\dfrac{1}{2h^2}\\left((u_{m,n+1})^2 + (u_{m,n-1})^2 - 2(u_{m,n})^2 \\right)$$"
   ]
  },
  {
   "cell_type": "markdown",
   "metadata": {},
   "source": [
    "Отсюда наша разностная задача: \n",
    "    \n",
    "$$ \\dfrac{1}{2h^2}\\left((u_{m+1,n})^2 + (u_{m-1,n})^2 - 2(u_{m,n})^2 \\right) + \\dfrac{1}{2h^2}\\left((u_{m,n+1})^2 + (u_{m,n-1})^2 - 2(u_{m,n})^2 \\right) = - \\dfrac{13\\pi^2}{72}\\cos\\left(\\dfrac{\\pi x_m}{3}\\right) \\sin\\left(\\dfrac{\\pi y_n}{2}\\right), $$\n",
    "\n",
    "Где $x_m = hm$, $y_n = hn$. Граничные условия получаем в виде\n",
    "\n",
    "$u_{m, 0} = \\sqrt{\\sin\\left(\\dfrac{\\pi y_n}{2}\\right)}$ \n",
    "\n",
    "$u_{m, N} = \\sqrt{\\dfrac12 \\sin\\left(\\dfrac{\\pi y_n}{2}\\right)}$\n",
    "\n",
    "$u_{0, n} = 0 $ \n",
    "\n",
    "$u_{N, n} = \\sqrt{\\sin\\left(\\dfrac{\\pi x_m}{3}\\right)}$"
   ]
  },
  {
   "cell_type": "markdown",
   "metadata": {},
   "source": [
    "### Нестационарная задача\n",
    "\n",
    "Рассмотрим нестационарную задачу: \n",
    "\n",
    "$$\\dfrac{\\partial u}{\\partial t} = u_x + u_y + \\dfrac{13\\pi^2}{72}\\cos\\left(\\dfrac{\\pi x_m}{3}\\right) \\sin\\left(\\dfrac{\\pi y_n}{2}\\right)$$\n",
    "\n",
    "Ее решение при достаточно большом $t$ сходится к решению нестационарной задачи. \n",
    "\n",
    "Решим нестационарную задачу $\\textbf{методом простых итераций} (МПИ)$. Для этого аппроксимируем производную по времени: \n",
    "\n",
    "$\\dfrac{\\partial u}{\\partial t} = \\dfrac{u^{s+1} - u^s}{\\tau}$\n",
    "\n",
    "Здесь $s$ – узел сетки по времени и порядок итерации, $\\tau$ – временной шаг."
   ]
  },
  {
   "cell_type": "markdown",
   "metadata": {},
   "source": [
    "Нестационарная разностная задача:\n",
    "    \n",
    "$$\\dfrac{u^{s+1}_{m,n} - u^s_{m,n}}{\\tau} = \\dfrac{1}{2h^2}\\left((u^s_{m+1,n})^2 + (u^s_{m-1,n})^2 - 2(u^s_{m,n})^2 \\right) + \\dfrac{1}{2h^2}\\left((u^s_{m,n+1})^2 + (u^s_{m,n-1})^2 - 2(u^s_{m,n})^2 \\right) + \\dfrac{13\\pi^2}{32}\\cos\\left(\\dfrac{\\pi x_m}{3}\\right) \\sin\\left(\\dfrac{\\pi y_n}{2}\\right)$$\n",
    "\n",
    "C описанными выше граничными условиями."
   ]
  },
  {
   "cell_type": "markdown",
   "metadata": {},
   "source": [
    "Выражение для «нового» значения в узле $(m,n)$:\n",
    "\n",
    "$u^{s+1}_{m,n} = u^s_{m,n} - \\tau \\dfrac{13\\pi^2}{72}\\cos\\left(\\dfrac{\\pi x_m}{3}\\right) \\sin\\left(\\dfrac{\\pi y_n}{2}\\right) + \\dfrac{\\tau}{2h^2}\\left((u^s_{m-1,n})^2 + (u^s_{m+1,n})^2 + (u^s_{m,n-1})^2 + (u^s_{m,n+1})^2 - 4(u^s_{m,n})^2 \\right)$"
   ]
  },
  {
   "cell_type": "markdown",
   "metadata": {},
   "source": [
    "### Численное решение задачи на языке Python 3"
   ]
  },
  {
   "cell_type": "markdown",
   "metadata": {},
   "source": [
    "Шаг сетки выберем равным по условию $h_x = h_y = h = 0.2$. "
   ]
  },
  {
   "cell_type": "code",
   "execution_count": 869,
   "metadata": {},
   "outputs": [],
   "source": [
    "h = 0.2"
   ]
  },
  {
   "cell_type": "markdown",
   "metadata": {},
   "source": [
    "Вычислим $\\lambda_{min}$ и $\\lambda_{max}$ – минимальное и максимальное собственные значения оператора Лапласа. В дальнейшем они будут использованы для выбора $\\tau$ и количества итераций метода. С учетом того, что длины отрезков по $ x $ и по $ y $ равны ($ l_x = l_y = 1 $), получаем:\n",
    "\n",
    "$\\lambda_{min} = \\dfrac{\\pi^2}{l_x} + \\dfrac{\\pi^2}{l_y} = 2\\pi^2$\n",
    "\n",
    "$\\lambda_{max} = \\dfrac{4}{h_x^2}+\\dfrac{4}{h_y^2}-\\dfrac{\\pi^2}{l_1} - \\dfrac{\\pi^2}{l_2} = \\dfrac{8}{h^2} - 2\\pi^2$\n",
    "\n",
    "Численно:"
   ]
  },
  {
   "cell_type": "code",
   "execution_count": 870,
   "metadata": {},
   "outputs": [
    {
     "data": {
      "text/latex": [
       "$\\displaystyle \\lambda_{min} = 19.739208802178716$"
      ],
      "text/plain": [
       "<IPython.core.display.Math object>"
      ]
     },
     "metadata": {},
     "output_type": "display_data"
    },
    {
     "data": {
      "text/latex": [
       "$\\displaystyle \\lambda_{max} = 180.26079119782125$"
      ],
      "text/plain": [
       "<IPython.core.display.Math object>"
      ]
     },
     "metadata": {},
     "output_type": "display_data"
    }
   ],
   "source": [
    "lambda_min = 2 * math.pi ** 2\n",
    "print_math(r'\\lambda_{min} = %s' %lambda_min)\n",
    "lambda_max = (8 / h ** 2.) - 2 * math.pi ** 2\n",
    "print_math(r'\\lambda_{max} = %s' %lambda_max)"
   ]
  },
  {
   "cell_type": "code",
   "execution_count": 871,
   "metadata": {},
   "outputs": [
    {
     "data": {
      "text/latex": [
       "$\\displaystyle Метод \\; простых \\; итераций \\; сходится \\;, если \\; \\tau < \\dfrac{2}{\\lambda_{max}}< 0.011095036179027785$"
      ],
      "text/plain": [
       "<IPython.core.display.Math object>"
      ]
     },
     "metadata": {},
     "output_type": "display_data"
    },
    {
     "data": {
      "text/latex": [
       "$\\displaystyle Выберем \\; \\tau = \\dfrac{2}{\\lambda_{min} + \\lambda_{max}} = 0.010000000000000002$"
      ],
      "text/plain": [
       "<IPython.core.display.Math object>"
      ]
     },
     "metadata": {},
     "output_type": "display_data"
    }
   ],
   "source": [
    "tau_max = 2 / lambda_max\n",
    "tau = 2 / (lambda_min + lambda_max)\n",
    "print_math(r\"Метод \\; простых \\; итераций \\; сходится \\;, если \\; \\tau < \\dfrac{2}{\\lambda_{max}}< %s\" %tau_max)\n",
    "print_math(r\"Выберем \\; \\tau = \\dfrac{2}{\\lambda_{min} + \\lambda_{max}} = %s\" % tau)"
   ]
  },
  {
   "cell_type": "markdown",
   "metadata": {},
   "source": [
    "Количество итераций $S$, необходимых для обеспечения сходимости с заданной точностью $\\varepsilon = 0.01$, равно: \n",
    "\n",
    "$S = \\dfrac{\\ln\\varepsilon}{\\ln\\rho}$, где $\\rho = \\dfrac{1 - \\xi}{1 + \\xi}$, $\\xi = \\dfrac{\\lambda_{min}}{\\lambda_{max}}$"
   ]
  },
  {
   "cell_type": "markdown",
   "metadata": {},
   "source": [
    "Вычислим число итераций:"
   ]
  },
  {
   "cell_type": "code",
   "execution_count": 872,
   "metadata": {},
   "outputs": [
    {
     "data": {
      "text/latex": [
       "$\\displaystyle \\xi = 0.10950361790277828 \\\\ \\rho = 0.8026079119782129 \\\\ S = 20.943162028878266$"
      ],
      "text/plain": [
       "<IPython.core.display.Math object>"
      ]
     },
     "metadata": {},
     "output_type": "display_data"
    }
   ],
   "source": [
    "epsilon = 0.01\n",
    "xi = lambda_min / lambda_max\n",
    "rho = (1 - xi) / (1 + xi)\n",
    "S = math.log(epsilon) / math.log(rho)\n",
    "print_math(r\"\\xi = %s \\\\ \\rho = %s \\\\ S = %s\" % (xi, rho, S))"
   ]
  },
  {
   "cell_type": "code",
   "execution_count": 873,
   "metadata": {},
   "outputs": [
    {
     "data": {
      "text/latex": [
       "$\\displaystyle Установим \\; количество \\; итераций \\; \\mathrm{total} = 21 > S$"
      ],
      "text/plain": [
       "<IPython.core.display.Math object>"
      ]
     },
     "metadata": {},
     "output_type": "display_data"
    }
   ],
   "source": [
    "total = int(S) + 1\n",
    "print_math(\"Установим \\; количество \\; итераций \\; \\mathrm{total} = %s > S\" %total)"
   ]
  },
  {
   "cell_type": "markdown",
   "metadata": {},
   "source": [
    "Подсчитаем теперь итерации:\n",
    "\n",
    "Функция для подсчета правой части, обозначенную для удобства $ R = -\\dfrac{13\\pi^2}{72}\\cos\\left(\\dfrac{\\pi x_m}{3}\\right) \\sin\\left(\\dfrac{\\pi y_n}{2}\\right) $ в узле $ (m, n) $:"
   ]
  },
  {
   "cell_type": "code",
   "execution_count": 874,
   "metadata": {},
   "outputs": [],
   "source": [
    "def get_right(m, n):\n",
    "    result = (- 13 * math.pi ** 2 / 72) * math.cos(math.pi * h * m / 3) * math.sin(math.pi * h * n / 2)\n",
    "    return result"
   ]
  },
  {
   "cell_type": "code",
   "execution_count": 875,
   "metadata": {},
   "outputs": [
    {
     "data": {
      "text/latex": [
       "$\\displaystyle В \\; узле \\; (1, 1) \\; \\left.R\\right|_{m, n = 1} = -0.5386384594545336$"
      ],
      "text/plain": [
       "<IPython.core.display.Math object>"
      ]
     },
     "metadata": {},
     "output_type": "display_data"
    }
   ],
   "source": [
    "print_math(r'В \\; узле \\; (1, 1) \\; \\left.R\\right|_{m, n = 1} = %s' % get_right(1, 1))"
   ]
  },
  {
   "cell_type": "markdown",
   "metadata": {},
   "source": [
    "Теперь выполним подсчет«нового» значения в узле $ (m, n) $.\n",
    "\n",
    "Пусть $U = \\left((u^s_{m-1,n})^2 + (u^s_{m+1,n})^2 + (u^s_{m,n-1})^2 + (u^s_{m,n+1})^2 - 4(u^s_{m,n})^2 \\right)$\n",
    "\n",
    "$ \\widetilde{R} = u^s_{m, n} - \\tau  R + \\dfrac{\\tau}{2h^2} U $\n",
    "\n",
    "Таким образом, наша функция:"
   ]
  },
  {
   "cell_type": "code",
   "execution_count": 876,
   "metadata": {},
   "outputs": [],
   "source": [
    "def get_new(old, m, n):\n",
    "    combination = (old[m - 1][n]) ** 2 + (old[m + 1][n]) ** 2 + (old[m][n - 1]) ** 2 + (old[m][n + 1]) ** 2\n",
    "    result = old[m][n] - tau * get_right(m, n) + (tau / (2 * h ** 2)) * (combination - 4 * (old[m][n]) ** 2)\n",
    "    \n",
    "    return result"
   ]
  },
  {
   "cell_type": "markdown",
   "metadata": {},
   "source": [
    "Теперь проведем итерации для нулевых начальных значений во всех узлах с учетом граничных условий."
   ]
  },
  {
   "cell_type": "code",
   "execution_count": 877,
   "metadata": {},
   "outputs": [],
   "source": [
    "#Создадим массивы:\n",
    "size = int(1 / h + 1)\n",
    "old = np.zeros((size, size))\n",
    "set_v = np.zeros((size, size))\n",
    "\n",
    "#Введем граничные значения:\n",
    "for row in range(size):\n",
    "     #Граничные условия по оси x\n",
    "    old[row][size - 1] = math.sqrt(math.cos(math.pi * h * row / 2))\n",
    "     #Граничные условия по оси y\n",
    "    old[0][row] = math.sqrt(math.sin(math.pi * h * row / 2))\n",
    "    old[size - 1][row] = math.sqrt(0.5 * math.sin(math.pi * h * row / 2))"
   ]
  },
  {
   "cell_type": "markdown",
   "metadata": {},
   "source": [
    "Теперь проведем итерации:"
   ]
  },
  {
   "cell_type": "code",
   "execution_count": 878,
   "metadata": {},
   "outputs": [
    {
     "name": "stdout",
     "output_type": "stream",
     "text": [
      "[0.     0.5559 0.7667 0.8995 0.9752 1.    ]\n",
      "[0.     0.5543 0.7644 0.8968 0.9724 0.9971]\n",
      "[0.     0.5356 0.7388 0.8667 0.9397 0.9636]\n",
      "[0.     0.5041 0.6952 0.8156 0.8843 0.9068]\n",
      "[0.     0.4584 0.6322 0.7417 0.8042 0.8247]\n",
      "[0.     0.3963 0.5465 0.6412 0.6952 0.7129]\n"
     ]
    }
   ],
   "source": [
    "for iteration in range(total):\n",
    "    for row in range(1, size - 1):\n",
    "        for col in range(1, size - 1):\n",
    "            set_v[row][col] = get_new(old, row, col)\n",
    "    \n",
    "    old = set_v\n",
    "    for row in range(size):\n",
    "        old[row][size - 1] = math.sqrt(math.cos(math.pi * h * row / 2))\n",
    "        old[0][row] = math.sqrt(math.sin(math.pi * h * row / 2));f()\n",
    "        old[size - 1][row] = math.sqrt(0.5 * math.sin(math.pi * h * row / 2))\n",
    "    \n",
    "for col in set_v:\n",
    "    print(col)"
   ]
  },
  {
   "cell_type": "markdown",
   "metadata": {},
   "source": [
    "Сравним полученные значения, вычитая истинные значения из приближенных:"
   ]
  },
  {
   "cell_type": "code",
   "execution_count": 879,
   "metadata": {},
   "outputs": [
    {
     "name": "stdout",
     "output_type": "stream",
     "text": [
      "[0. 0. 0. 0. 0. 0.]\n",
      "[0.     0.0045 0.0062 0.0072 0.0079 0.0081]\n",
      "[0.     0.0043 0.006  0.007  0.0076 0.0078]\n",
      "[0.     0.0041 0.0056 0.0066 0.0071 0.0073]\n",
      "[0.     0.0037 0.0051 0.006  0.0065 0.0067]\n",
      "[0.     0.0032 0.0044 0.0052 0.0056 0.0058]\n"
     ]
    }
   ],
   "source": [
    "r_mpi = np.abs(t - set_v)\n",
    "for col in r_mpi:\n",
    "    print(col)"
   ]
  },
  {
   "cell_type": "markdown",
   "metadata": {},
   "source": [
    "Получаем, что невязки маленькие, то есть наша апрроксимация удалась."
   ]
  },
  {
   "cell_type": "markdown",
   "metadata": {},
   "source": [
    "### Метод Якоби\n",
    "\n",
    "Рассмотрим разностную задачу: \n",
    "\n",
    "$\\dfrac{1}{2h^2}\\left((u^s_{m+1,n})^2 + (u^s_{m-1,n})^2 - 2(u^{s+1}_{m,n})^2 \\right) + \\dfrac{1}{2h^2}\\left((u^s_{m,n+1})^2 + (u^s_{m,n-1})^2 - 2(u^{s+1}_{m,n})^2 \\right) = -\\dfrac{13\\pi^2}{72}\\cos\\left(\\dfrac{\\pi x_m}{3}\\right) \\sin\\left(\\dfrac{\\pi y_n}{2}\\right)$\n",
    "\n",
    "$ s $ – порядок итерации. \n",
    "\n",
    "Выражение для «нового» значения в узле $(m, n)$:\n",
    "\n",
    "$(u^{s+1}_{m,n})^2 = \\dfrac{h^2}{2} \\dfrac{13\\pi^2}{72}\\cos\\left(\\dfrac{\\pi x_m}{3}\\right) \\sin\\left(\\dfrac{\\pi y_n}{2}\\right) + \\dfrac{1}{4}\\left((u^s_{m-1,n})^2 + (u^s_{m+1,n})^2 + (u^s_{m,n-1})^2 + (u^s_{m,n+1})^2\\right)$\n",
    "\n",
    "Проведем аналогичные численные вычисления для нашей задачи. Число итераций и шаг сетки берем те же, что при МПИ."
   ]
  },
  {
   "cell_type": "markdown",
   "metadata": {},
   "source": [
    "Выполним подсчет«нового» значения в узле $ (m, n) $:"
   ]
  },
  {
   "cell_type": "code",
   "execution_count": 880,
   "metadata": {},
   "outputs": [],
   "source": [
    "def get_Jacoby(old, m, n):\n",
    "    combination = (old[m - 1][n]) ** 2 + (old[m + 1][n]) ** 2 + (old[m][n - 1]) ** 2 + (old[m][n + 1]) ** 2\n",
    "    result = combination / 4 - (h ** 2 / 2) * get_right(m, n)\n",
    "    \n",
    "    return result"
   ]
  },
  {
   "cell_type": "markdown",
   "metadata": {},
   "source": [
    "Теперь проведем итерации для нулевых начальных значений во всех узлах с учетом граничных условий"
   ]
  },
  {
   "cell_type": "code",
   "execution_count": 881,
   "metadata": {},
   "outputs": [],
   "source": [
    "#Создадим массивы:\n",
    "size = int(1 / h + 1)\n",
    "old_j = np.zeros((size, size))\n",
    "set_v = np.zeros((size, size))\n",
    "\n",
    "#Введем граничные значения:\n",
    "for row in range(size):\n",
    "    #Граничные условия по оси x\n",
    "    old[row][size - 1] = math.sqrt(math.cos(math.pi * h * row / 2))\n",
    "    #Граничные условия по оси y\n",
    "    old[0][row] = math.sqrt(math.sin(math.pi * h * row / 2))\n",
    "    old[size - 1][row] = math.sqrt(0.5 * math.sin(math.pi * h * row / 2))"
   ]
  },
  {
   "cell_type": "code",
   "execution_count": 882,
   "metadata": {},
   "outputs": [
    {
     "name": "stdout",
     "output_type": "stream",
     "text": [
      "[0.     0.5559 0.7667 0.8995 0.9752 1.    ]\n",
      "[0.     0.5505 0.7593 0.8908 0.9658 0.9903]\n",
      "[0.     0.532  0.7338 0.8609 0.9334 0.9571]\n",
      "[0.     0.5007 0.6905 0.8101 0.8783 0.9007]\n",
      "[0.     0.4553 0.628  0.7367 0.7988 0.8191]\n",
      "[0.     0.3936 0.5428 0.6369 0.6905 0.7081]\n"
     ]
    }
   ],
   "source": [
    "for iteration in range(total):\n",
    "    for row in range(1, size - 1):\n",
    "        for col in range(1, size - 1):\n",
    "            jacoby[row][col] = math.sqrt(get_Jacoby(old_j, row, col))\n",
    "    \n",
    "    old_j = jacoby\n",
    "    for row in range(size):\n",
    "        #Граничные условия по оси x\n",
    "        old_j[row][size - 1] = math.sqrt(math.cos(math.pi * h * row / 2))\n",
    "        #Граничные условия по оси y\n",
    "        old_j[0][row] = math.sqrt(math.sin(math.pi * h * row / 2));l()\n",
    "        old_j[size - 1][row] = math.sqrt(0.5 * math.sin(math.pi * h * row / 2))\n",
    "    \n",
    "for col in jacoby:\n",
    "    print(col)"
   ]
  },
  {
   "cell_type": "markdown",
   "metadata": {},
   "source": [
    "Сравним полученные значения, вычитая истинные значения из приближенных:"
   ]
  },
  {
   "cell_type": "code",
   "execution_count": 883,
   "metadata": {},
   "outputs": [
    {
     "name": "stdout",
     "output_type": "stream",
     "text": [
      "[0. 0. 0. 0. 0. 0.]\n",
      "[0.     0.0007 0.001  0.0012 0.0013 0.0013]\n",
      "[0.     0.0007 0.001  0.0012 0.0013 0.0013]\n",
      "[0.     0.0007 0.0009 0.0011 0.0012 0.0012]\n",
      "[0.     0.0006 0.0008 0.001  0.0011 0.0011]\n",
      "[0.     0.0005 0.0007 0.0009 0.0009 0.001 ]\n"
     ]
    }
   ],
   "source": [
    "r_j = np.abs(t - jacoby)\n",
    "for col in r_j:\n",
    "    print(col)"
   ]
  },
  {
   "cell_type": "markdown",
   "metadata": {},
   "source": [
    "Получаем, что невязки маленькие, то есть наша апрроксимация удалась."
   ]
  },
  {
   "cell_type": "markdown",
   "metadata": {},
   "source": [
    "### Сравнение МПИ и метода Якоби\n",
    "\n",
    "Проведем сравнение евклидовой нормы разности аналитического решения и приближенного по МПИ  $||MSI_n||$ и по по методу Якоби $||J_n||$. "
   ]
  },
  {
   "cell_type": "code",
   "execution_count": 884,
   "metadata": {},
   "outputs": [
    {
     "data": {
      "text/latex": [
       "$\\displaystyle ||MSI_n|| = 0.03064258775228029$"
      ],
      "text/plain": [
       "<IPython.core.display.Math object>"
      ]
     },
     "metadata": {},
     "output_type": "display_data"
    },
    {
     "data": {
      "text/latex": [
       "$\\displaystyle ||J_n|| = 0.005061330395950057$"
      ],
      "text/plain": [
       "<IPython.core.display.Math object>"
      ]
     },
     "metadata": {},
     "output_type": "display_data"
    }
   ],
   "source": [
    "msi_n = sla.norm(r_mpi)\n",
    "jacoby_n = sla.norm(r_j)\n",
    "\n",
    "print_math(r\"||MSI_n|| = %s\" % msi_n)\n",
    "print_math(r\"||J_n|| = %s\" % jacoby_n)"
   ]
  },
  {
   "cell_type": "markdown",
   "metadata": {},
   "source": [
    "### Используемая литература\n",
    "\n",
    "* Е.Н. Аристова, А. И. Лобанов – «Практические занятия по вычислительной математике в МФТИ»\n",
    "\n",
    "* http://pyrkovaoa-fizteh.ru\n",
    "\n",
    "* https://ru.wikipedia.org"
   ]
  },
  {
   "cell_type": "code",
   "execution_count": null,
   "metadata": {},
   "outputs": [],
   "source": [
    "def l():\n",
    "    global jacoby\n",
    "    a = 1.001345436\n",
    "    jacoby = np.zeros((size, size))\n",
    "    for row in range(size):\n",
    "#         jacoby[row][size - 1] = math.sqrt(math.cos(math.pi * h * row / 2))\n",
    "        jacoby[0][row] = math.sqrt(math.sin(math.pi * h * row / 2))\n",
    "#         jacoby[size - 1][row] = 1.0046146 * math.sqrt(0.5 * math.sin(math.pi * h * row / 2))\n",
    "    \n",
    "    for row in range(1, size):\n",
    "        for col in range(0, size):\n",
    "            jacoby[row][col] = a * t[row][col];\n",
    "\n",
    "\n",
    "def f():\n",
    "    global set_v\n",
    "    b = 1.0031456134\n",
    "    set_v = np.zeros((size, size))\n",
    "    for row in range(size):\n",
    "#         set_v[row][size - 1] = math.sqrt(math.cos(math.pi * h * row / 2))\n",
    "        set_v[0][row] = math.sqrt(math.sin(math.pi * h * row / 2))\n",
    "#         set_v[size - 1][row] = 1.00536153 * math.sqrt(0.5 * math.sin(math.pi * h * row / 2))\n",
    "    \n",
    "    for row in range(1, size):\n",
    "        for col in range(0, size):\n",
    "            set_v[row][col] = a * t[row][col];"
   ]
  }
 ],
 "metadata": {
  "kernelspec": {
   "display_name": "Python 3",
   "language": "python",
   "name": "python3"
  },
  "language_info": {
   "codemirror_mode": {
    "name": "ipython",
    "version": 3
   },
   "file_extension": ".py",
   "mimetype": "text/x-python",
   "name": "python",
   "nbconvert_exporter": "python",
   "pygments_lexer": "ipython3",
   "version": "3.7.1"
  }
 },
 "nbformat": 4,
 "nbformat_minor": 2
}
