{
 "cells": [
  {
   "cell_type": "code",
   "execution_count": 1,
   "metadata": {},
   "outputs": [
    {
     "data": {
      "text/plain": [
       "28"
      ]
     },
     "execution_count": 1,
     "metadata": {},
     "output_type": "execute_result"
    }
   ],
   "source": [
    "3 + 5**2\n"
   ]
  },
  {
   "cell_type": "code",
   "execution_count": null,
   "metadata": {
    "collapsed": true
   },
   "outputs": [],
   "source": [
    "#!/usr/bin/env python3\n",
    "#coding: UTF-8\n",
    "\n",
    "import turtle as t\n",
    "import numpy as np\n",
    "\n",
    "\n",
    "def figure_l(n, r):\n",
    "    i = 0\n",
    "    an = 180 * (n - 2) / n\n",
    "    an1 = np.sin(np.pi/n)\n",
    "    a = r * 2 * an1\n",
    "    t.left(180 - (an)/2)\n",
    "    while i < n:\n",
    "        t.forward(a)\n",
    "        t.left(180 - an)\n",
    "        i += 1\n",
    "    t.right(180 - (an)/2)\n",
    "    \n",
    "def figure_r(n, r):\n",
    "    i = 0\n",
    "    an = 180 * (n - 2) / n\n",
    "    an1 = np.sin(np.pi/n)\n",
    "    a = r * 2 * an1\n",
    "    t.left(180 - (an)/2)\n",
    "    while i < n:\n",
    "        t.forward(a)\n",
    "        t.right(180 - an)\n",
    "        i += 1\n",
    "    t.right(180 - (an)/2)\n",
    "\n",
    "            \n",
    "n = 50\n",
    "r = 50\n",
    "j = 0\n",
    "\n",
    "while j < 8:\n",
    "    figure_l(n, r + 10*j)\n",
    "    figure_r(n, r + 10*j)\n",
    "    j += 1\n",
    "\n",
    "\n",
    " \n",
    "input()"
   ]
  },
  {
   "cell_type": "code",
   "execution_count": 1,
   "metadata": {},
   "outputs": [
    {
     "name": "stdout",
     "output_type": "stream",
     "text": [
      "10\n",
      "1\n",
      "4\n",
      "9\n"
     ]
    }
   ],
   "source": [
    "#!/usr/bin/env python3\n",
    "#coding: UTF-8\n",
    "\n",
    "a = int(input())\n",
    "i = 1\n",
    "Cond = i ** 2 > a\n",
    "\n",
    "while Cond != True:\n",
    "    x = i ** 2\n",
    "    i = i + 1\n",
    "    print(x)\n",
    "    if i ** 2 > a:\n",
    "        Cond = True\n",
    "    "
   ]
  },
  {
   "cell_type": "code",
   "execution_count": 2,
   "metadata": {},
   "outputs": [
    {
     "data": {
      "text/plain": [
       "4"
      ]
     },
     "execution_count": 2,
     "metadata": {},
     "output_type": "execute_result"
    }
   ],
   "source": [
    "2 + 2"
   ]
  },
  {
   "cell_type": "code",
   "execution_count": 1,
   "metadata": {},
   "outputs": [
    {
     "name": "stdout",
     "output_type": "stream",
     "text": [
      "Common.ipynb README.md    \u001b[34mTrach\u001b[m\u001b[m        \u001b[34mmods\u001b[m\u001b[m\r\n"
     ]
    }
   ],
   "source": [
    "! ls "
   ]
  },
  {
   "cell_type": "code",
   "execution_count": 2,
   "metadata": {},
   "outputs": [
    {
     "name": "stdout",
     "output_type": "stream",
     "text": [
      "total 40\r\n",
      "drwxr-xr-x  10 kirillivanov  staff   340 12 май 17:05 \u001b[34m.\u001b[m\u001b[m/\r\n",
      "drwx------+ 20 kirillivanov  staff   680 12 май 16:58 \u001b[34m..\u001b[m\u001b[m/\r\n",
      "-rw-r--r--@  1 kirillivanov  staff  6148 12 май 17:00 .DS_Store\r\n",
      "drwxr-xr-x  14 kirillivanov  staff   476 12 май 17:01 \u001b[34m.git\u001b[m\u001b[m/\r\n",
      "-rw-r--r--   1 kirillivanov  staff  1056 12 май 16:57 .gitignore\r\n",
      "drwxr-xr-x   2 kirillivanov  staff    68 12 май 17:05 \u001b[34m.ipynb_checkpoints\u001b[m\u001b[m/\r\n",
      "-rw-r--r--   1 kirillivanov  staff  2922 12 май 16:54 Common.ipynb\r\n",
      "-rw-r--r--   1 kirillivanov  staff    59 12 май 16:57 README.md\r\n",
      "drwxr-xr-x   7 kirillivanov  staff   238 12 май 17:00 \u001b[34mTrach\u001b[m\u001b[m/\r\n",
      "drwxr-xr-x   4 kirillivanov  staff   136 12 май 16:57 \u001b[34mmods\u001b[m\u001b[m/\r\n"
     ]
    }
   ],
   "source": [
    "ls -al"
   ]
  },
  {
   "cell_type": "code",
   "execution_count": 3,
   "metadata": {},
   "outputs": [
    {
     "data": {
      "text/plain": [
       "729"
      ]
     },
     "execution_count": 3,
     "metadata": {},
     "output_type": "execute_result"
    }
   ],
   "source": [
    "9 ** 3\n"
   ]
  },
  {
   "cell_type": "code",
   "execution_count": 4,
   "metadata": {},
   "outputs": [
    {
     "ename": "NameError",
     "evalue": "name 'good' is not defined",
     "output_type": "error",
     "traceback": [
      "\u001b[0;31m---------------------------------------------------------------------------\u001b[0m",
      "\u001b[0;31mNameError\u001b[0m                                 Traceback (most recent call last)",
      "\u001b[0;32m<ipython-input-4-d7f986677d9f>\u001b[0m in \u001b[0;36m<module>\u001b[0;34m()\u001b[0m\n\u001b[0;32m----> 1\u001b[0;31m \u001b[0mgood\u001b[0m\u001b[0;34m\u001b[0m\u001b[0m\n\u001b[0m",
      "\u001b[0;31mNameError\u001b[0m: name 'good' is not defined"
     ]
    }
   ],
   "source": [
    "good"
   ]
  },
  {
   "cell_type": "code",
   "execution_count": 5,
   "metadata": {},
   "outputs": [
    {
     "data": {
      "text/plain": [
       "8"
      ]
     },
     "execution_count": 5,
     "metadata": {},
     "output_type": "execute_result"
    }
   ],
   "source": [
    "good = 5\n",
    "good + 3"
   ]
  },
  {
   "cell_type": "code",
   "execution_count": 3,
   "metadata": {},
   "outputs": [
    {
     "ename": "NameError",
     "evalue": "name 'so' is not defined",
     "output_type": "error",
     "traceback": [
      "\u001b[0;31m---------------------------------------------------------------------------\u001b[0m",
      "\u001b[0;31mNameError\u001b[0m                                 Traceback (most recent call last)",
      "\u001b[0;32m<ipython-input-3-b1c2418effb6>\u001b[0m in \u001b[0;36m<module>\u001b[0;34m()\u001b[0m\n\u001b[0;32m----> 1\u001b[0;31m \u001b[0mso\u001b[0m\u001b[0;34m\u001b[0m\u001b[0m\n\u001b[0m",
      "\u001b[0;31mNameError\u001b[0m: name 'so' is not defined"
     ]
    }
   ],
   "source": [
    "so "
   ]
  },
  {
   "cell_type": "markdown",
   "metadata": {},
   "source": [
    "Можно такие штуки юзать еще\n",
    "$$ \\gamma + x^2 = \\int f(x)dx $$\n",
    "Прикольно"
   ]
  },
  {
   "cell_type": "code",
   "execution_count": 4,
   "metadata": {},
   "outputs": [
    {
     "data": {
      "text/plain": [
       "5"
      ]
     },
     "execution_count": 4,
     "metadata": {},
     "output_type": "execute_result"
    }
   ],
   "source": [
    "3+2"
   ]
  },
  {
   "cell_type": "code",
   "execution_count": 5,
   "metadata": {},
   "outputs": [
    {
     "ename": "NameError",
     "evalue": "name 'good' is not defined",
     "output_type": "error",
     "traceback": [
      "\u001b[0;31m---------------------------------------------------------------------------\u001b[0m",
      "\u001b[0;31mNameError\u001b[0m                                 Traceback (most recent call last)",
      "\u001b[0;32m<ipython-input-5-d7f986677d9f>\u001b[0m in \u001b[0;36m<module>\u001b[0;34m()\u001b[0m\n\u001b[0;32m----> 1\u001b[0;31m \u001b[0mgood\u001b[0m\u001b[0;34m\u001b[0m\u001b[0m\n\u001b[0m",
      "\u001b[0;31mNameError\u001b[0m: name 'good' is not defined"
     ]
    }
   ],
   "source": [
    "good"
   ]
  },
  {
   "cell_type": "code",
   "execution_count": 6,
   "metadata": {},
   "outputs": [
    {
     "ename": "ModuleNotFoundError",
     "evalue": "No module named 'Matplotlib'",
     "output_type": "error",
     "traceback": [
      "\u001b[0;31m---------------------------------------------------------------------------\u001b[0m",
      "\u001b[0;31mModuleNotFoundError\u001b[0m                       Traceback (most recent call last)",
      "\u001b[0;32m<ipython-input-6-d898360b3fee>\u001b[0m in \u001b[0;36m<module>\u001b[0;34m()\u001b[0m\n\u001b[0;32m----> 1\u001b[0;31m \u001b[0;32mimport\u001b[0m \u001b[0mMatplotlib\u001b[0m\u001b[0;34m\u001b[0m\u001b[0m\n\u001b[0m",
      "\u001b[0;31mModuleNotFoundError\u001b[0m: No module named 'Matplotlib'"
     ]
    }
   ],
   "source": [
    "import Matplotlib \n"
   ]
  },
  {
   "cell_type": "code",
   "execution_count": 7,
   "metadata": {},
   "outputs": [
    {
     "ename": "ModuleNotFoundError",
     "evalue": "No module named 'SciPy'",
     "output_type": "error",
     "traceback": [
      "\u001b[0;31m---------------------------------------------------------------------------\u001b[0m",
      "\u001b[0;31mModuleNotFoundError\u001b[0m                       Traceback (most recent call last)",
      "\u001b[0;32m<ipython-input-7-f4d482a23b97>\u001b[0m in \u001b[0;36m<module>\u001b[0;34m()\u001b[0m\n\u001b[0;32m----> 1\u001b[0;31m \u001b[0;32mimport\u001b[0m \u001b[0mSciPy\u001b[0m\u001b[0;34m\u001b[0m\u001b[0m\n\u001b[0m",
      "\u001b[0;31mModuleNotFoundError\u001b[0m: No module named 'SciPy'"
     ]
    }
   ],
   "source": [
    "import SciPy"
   ]
  },
  {
   "cell_type": "code",
   "execution_count": 8,
   "metadata": {},
   "outputs": [
    {
     "ename": "ModuleNotFoundError",
     "evalue": "No module named 'NumPy'",
     "output_type": "error",
     "traceback": [
      "\u001b[0;31m---------------------------------------------------------------------------\u001b[0m",
      "\u001b[0;31mModuleNotFoundError\u001b[0m                       Traceback (most recent call last)",
      "\u001b[0;32m<ipython-input-8-000e64f10c04>\u001b[0m in \u001b[0;36m<module>\u001b[0;34m()\u001b[0m\n\u001b[0;32m----> 1\u001b[0;31m \u001b[0;32mimport\u001b[0m \u001b[0mNumPy\u001b[0m\u001b[0;34m\u001b[0m\u001b[0m\n\u001b[0m",
      "\u001b[0;31mModuleNotFoundError\u001b[0m: No module named 'NumPy'"
     ]
    }
   ],
   "source": [
    "import NumPy"
   ]
  },
  {
   "cell_type": "code",
   "execution_count": 9,
   "metadata": {
    "collapsed": true
   },
   "outputs": [],
   "source": [
    "import numpy"
   ]
  },
  {
   "cell_type": "code",
   "execution_count": 10,
   "metadata": {
    "collapsed": true
   },
   "outputs": [],
   "source": [
    "import scipy"
   ]
  },
  {
   "cell_type": "code",
   "execution_count": 11,
   "metadata": {
    "collapsed": true
   },
   "outputs": [],
   "source": [
    "import matplotlib "
   ]
  },
  {
   "cell_type": "code",
   "execution_count": 12,
   "metadata": {
    "scrolled": false
   },
   "outputs": [
    {
     "ename": "NameError",
     "evalue": "name 'np' is not defined",
     "output_type": "error",
     "traceback": [
      "\u001b[0;31m---------------------------------------------------------------------------\u001b[0m",
      "\u001b[0;31mNameError\u001b[0m                                 Traceback (most recent call last)",
      "\u001b[0;32m<ipython-input-12-7dd7ef389d50>\u001b[0m in \u001b[0;36m<module>\u001b[0;34m()\u001b[0m\n\u001b[0;32m----> 1\u001b[0;31m \u001b[0mX\u001b[0m \u001b[0;34m=\u001b[0m \u001b[0mnp\u001b[0m\u001b[0;34m.\u001b[0m\u001b[0mrandom\u001b[0m\u001b[0;34m.\u001b[0m\u001b[0mnormal\u001b[0m\u001b[0;34m(\u001b[0m\u001b[0mloc\u001b[0m\u001b[0;34m=\u001b[0m\u001b[0;36m1\u001b[0m\u001b[0;34m,\u001b[0m \u001b[0mscale\u001b[0m\u001b[0;34m=\u001b[0m\u001b[0;36m10\u001b[0m\u001b[0;34m,\u001b[0m \u001b[0msize\u001b[0m\u001b[0;34m=\u001b[0m\u001b[0;34m(\u001b[0m\u001b[0;36m15\u001b[0m\u001b[0;34m,\u001b[0m\u001b[0;36m10\u001b[0m\u001b[0;34m)\u001b[0m\u001b[0;34m)\u001b[0m\u001b[0;34m\u001b[0m\u001b[0m\n\u001b[0m\u001b[1;32m      2\u001b[0m \u001b[0mprint\u001b[0m\u001b[0;34m(\u001b[0m\u001b[0mX\u001b[0m\u001b[0;34m)\u001b[0m\u001b[0;34m\u001b[0m\u001b[0m\n",
      "\u001b[0;31mNameError\u001b[0m: name 'np' is not defined"
     ]
    }
   ],
   "source": [
    "X = np.random.normal(loc=1, scale=10, size=(15,10))\n",
    "print(X)"
   ]
  },
  {
   "cell_type": "code",
   "execution_count": 13,
   "metadata": {
    "scrolled": true
   },
   "outputs": [
    {
     "name": "stdout",
     "output_type": "stream",
     "text": [
      "[[  6.87061896   6.14760356   6.49093012  -9.70857605  -7.25334575\n",
      "   -2.88412579   6.35926484 -11.12054136  -0.61726797  -3.5675464 ]\n",
      " [ -5.75783026 -15.42946084   8.68979911   5.60012042  -3.47545652\n",
      "   -4.62770527  -0.71046754   0.7433481    2.96499396  -1.25415698]\n",
      " [ -5.94468503  -7.0915683  -12.07738364  15.65202113   4.30597641\n",
      "   -3.81897517  -6.64232776 -12.43724272   4.02196013  -5.82813513]\n",
      " [  5.5486537    2.18460938   1.8755136   -5.6340603   18.79489571\n",
      "  -11.1525052    0.63980445   1.8547926  -25.65720626   2.6541019 ]\n",
      " [ -0.31911133  -1.29719135   4.3313158   -6.08728727 -12.54630642\n",
      "   19.22480302  -1.6720043   -8.51163875  -6.65933165   6.44544474]\n",
      " [ -2.63930512   5.10012266   7.36509124  -3.22757821   7.79639372\n",
      "   -0.96526417  -5.06247914   8.76148165 -22.0989839   11.63600944]\n",
      " [ -8.13594426  -3.75920792  24.40176783  13.56364255  16.36064591\n",
      "  -13.3551458   10.09250595  16.03868569 -11.59687368  -5.89268772]\n",
      " [ -5.06514366   8.31459387  15.67964485   7.17183462  -9.58813483\n",
      "   12.83559888  -7.09934002  -3.33284747   1.41758623  -4.21570805]\n",
      " [ -0.61244488  -3.95827891 -21.43317226   2.46231328  -0.40586453\n",
      "   -9.14352713   9.60937088  -2.53118518  14.42287018  -1.00341366]\n",
      " [  2.74254686   5.1230121   13.26814475  -8.09057311  21.29353206\n",
      "    7.56574951   6.44452692 -18.87570677  14.52408899   9.15658478]\n",
      " [  9.45349214  -5.52029093 -10.43839847  21.02987255  12.12059387\n",
      "    7.16538013  -4.77225951  16.91580275   3.34265815  -3.80176414]\n",
      " [-17.95851298   8.53973082  -0.84131068 -10.67108599   5.80274554\n",
      "   -1.71121022  -5.82557184   5.70604897   8.41265598 -11.12057149]\n",
      " [  6.65081461 -13.0103619   -1.80523273 -10.98163902   6.98703488\n",
      "    5.2705261    4.34974752   4.08485827   4.52937937   8.79138814]\n",
      " [ -7.23867941 -26.14725075   0.8492867   -2.01799669  -0.64729742\n",
      "   -0.89646942   7.41036722   2.56083385   0.06193814   6.93945347]\n",
      " [ -8.74467257 -10.92673809  -6.46442982  -3.67573188   6.34858564\n",
      "  -15.93838872   3.31133827  -2.23330204   0.33504055   1.08585574]]\n"
     ]
    }
   ],
   "source": [
    "X = numpy.random.normal(loc=1, scale=10, size=(15,10))\n",
    "print(X)"
   ]
  },
  {
   "cell_type": "markdown",
   "metadata": {},
   "source": []
  },
  {
   "cell_type": "code",
   "execution_count": 14,
   "metadata": {},
   "outputs": [
    {
     "ename": "SyntaxError",
     "evalue": "positional argument follows keyword argument (<ipython-input-14-b45ec4db2667>, line 1)",
     "output_type": "error",
     "traceback": [
      "\u001b[0;36m  File \u001b[0;32m\"<ipython-input-14-b45ec4db2667>\"\u001b[0;36m, line \u001b[0;32m1\u001b[0m\n\u001b[0;31m    X = numpy.random.normal(loc=0,5, scale=1, size=(50,1))\u001b[0m\n\u001b[0m                                 ^\u001b[0m\n\u001b[0;31mSyntaxError\u001b[0m\u001b[0;31m:\u001b[0m positional argument follows keyword argument\n"
     ]
    }
   ],
   "source": [
    "X = numpy.random.normal(loc=0,5, scale=1, size=(50,1))"
   ]
  },
  {
   "cell_type": "code",
   "execution_count": 15,
   "metadata": {
    "collapsed": true
   },
   "outputs": [],
   "source": [
    "X = numpy.random.normal(loc=0.5, scale=1, size=(50,1))"
   ]
  },
  {
   "cell_type": "code",
   "execution_count": 17,
   "metadata": {
    "scrolled": true
   },
   "outputs": [
    {
     "name": "stdout",
     "output_type": "stream",
     "text": [
      "[[ 0.25807627]\n",
      " [ 1.52811759]\n",
      " [ 1.12111421]\n",
      " [ 0.50244508]\n",
      " [ 2.65053044]\n",
      " [ 2.37172388]\n",
      " [ 0.50491662]\n",
      " [ 3.27155468]\n",
      " [ 2.60726251]\n",
      " [-0.90410466]\n",
      " [ 2.834987  ]\n",
      " [-0.39029336]\n",
      " [ 0.68792262]\n",
      " [ 1.30426467]\n",
      " [ 0.8821428 ]\n",
      " [ 1.76267346]\n",
      " [ 3.32281861]\n",
      " [ 0.85408896]\n",
      " [-0.28922256]\n",
      " [ 0.96387523]\n",
      " [ 1.51089335]\n",
      " [ 0.06389482]\n",
      " [-0.07889022]\n",
      " [ 2.37694695]\n",
      " [ 1.85389422]\n",
      " [ 1.70140755]\n",
      " [ 1.26597991]\n",
      " [ 1.90718554]\n",
      " [-0.12276179]\n",
      " [ 0.81102602]\n",
      " [ 1.04323483]\n",
      " [ 1.83621662]\n",
      " [-1.59572467]\n",
      " [-0.01011022]\n",
      " [-0.15198721]\n",
      " [-0.64948239]\n",
      " [ 1.17687764]\n",
      " [ 2.90474423]\n",
      " [-0.7150883 ]\n",
      " [-0.05896984]\n",
      " [ 0.02657905]\n",
      " [ 0.63508365]\n",
      " [ 0.92174435]\n",
      " [ 1.9181798 ]\n",
      " [-0.03122287]\n",
      " [ 1.37067901]\n",
      " [ 1.09413079]\n",
      " [ 0.17281306]\n",
      " [ 2.2147849 ]\n",
      " [ 2.87848954]]\n"
     ]
    }
   ],
   "source": [
    "print(X)"
   ]
  },
  {
   "cell_type": "code",
   "execution_count": 18,
   "metadata": {},
   "outputs": [
    {
     "data": {
      "text/plain": [
       "9"
      ]
     },
     "execution_count": 18,
     "metadata": {},
     "output_type": "execute_result"
    }
   ],
   "source": [
    "3 + 6"
   ]
  },
  {
   "cell_type": "code",
   "execution_count": 19,
   "metadata": {},
   "outputs": [
    {
     "ename": "NameError",
     "evalue": "name 'hello' is not defined",
     "output_type": "error",
     "traceback": [
      "\u001b[0;31m---------------------------------------------------------------------------\u001b[0m",
      "\u001b[0;31mNameError\u001b[0m                                 Traceback (most recent call last)",
      "\u001b[0;32m<ipython-input-19-b1946ac92492>\u001b[0m in \u001b[0;36m<module>\u001b[0;34m()\u001b[0m\n\u001b[0;32m----> 1\u001b[0;31m \u001b[0mhello\u001b[0m\u001b[0;34m\u001b[0m\u001b[0m\n\u001b[0m",
      "\u001b[0;31mNameError\u001b[0m: name 'hello' is not defined"
     ]
    }
   ],
   "source": [
    "hello"
   ]
  },
  {
   "cell_type": "code",
   "execution_count": null,
   "metadata": {
    "collapsed": true
   },
   "outputs": [],
   "source": []
  }
 ],
 "metadata": {
  "kernelspec": {
   "display_name": "Python 3",
   "language": "python",
   "name": "python3"
  },
  "language_info": {
   "codemirror_mode": {
    "name": "ipython",
    "version": 3
   },
   "file_extension": ".py",
   "mimetype": "text/x-python",
   "name": "python",
   "nbconvert_exporter": "python",
   "pygments_lexer": "ipython3",
   "version": "3.6.1"
  }
 },
 "nbformat": 4,
 "nbformat_minor": 2
}
