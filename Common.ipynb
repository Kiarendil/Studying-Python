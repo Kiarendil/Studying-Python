{
 "cells": [
  {
   "cell_type": "code",
   "execution_count": 1,
   "metadata": {},
   "outputs": [
    {
     "data": {
      "text/plain": [
       "28"
      ]
     },
     "execution_count": 1,
     "metadata": {},
     "output_type": "execute_result"
    }
   ],
   "source": [
    "3 + 5**2\n"
   ]
  },
  {
   "cell_type": "code",
   "execution_count": null,
   "metadata": {
    "collapsed": true
   },
   "outputs": [],
   "source": [
    "#!/usr/bin/env python3\n",
    "#coding: UTF-8\n",
    "\n",
    "import turtle as t\n",
    "import numpy as np\n",
    "\n",
    "\n",
    "def figure_l(n, r):\n",
    "    i = 0\n",
    "    an = 180 * (n - 2) / n\n",
    "    an1 = np.sin(np.pi/n)\n",
    "    a = r * 2 * an1\n",
    "    t.left(180 - (an)/2)\n",
    "    while i < n:\n",
    "        t.forward(a)\n",
    "        t.left(180 - an)\n",
    "        i += 1\n",
    "    t.right(180 - (an)/2)\n",
    "    \n",
    "def figure_r(n, r):\n",
    "    i = 0\n",
    "    an = 180 * (n - 2) / n\n",
    "    an1 = np.sin(np.pi/n)\n",
    "    a = r * 2 * an1\n",
    "    t.left(180 - (an)/2)\n",
    "    while i < n:\n",
    "        t.forward(a)\n",
    "        t.right(180 - an)\n",
    "        i += 1\n",
    "    t.right(180 - (an)/2)\n",
    "\n",
    "            \n",
    "n = 50\n",
    "r = 50\n",
    "j = 0\n",
    "\n",
    "while j < 8:\n",
    "    figure_l(n, r + 10*j)\n",
    "    figure_r(n, r + 10*j)\n",
    "    j += 1\n",
    "\n",
    "\n",
    " \n",
    "input()"
   ]
  },
  {
   "cell_type": "code",
   "execution_count": 1,
   "metadata": {},
   "outputs": [
    {
     "name": "stdout",
     "output_type": "stream",
     "text": [
      "10\n",
      "1\n",
      "4\n",
      "9\n"
     ]
    }
   ],
   "source": [
    "#!/usr/bin/env python3\n",
    "#coding: UTF-8\n",
    "\n",
    "a = int(input())\n",
    "i = 1\n",
    "Cond = i ** 2 > a\n",
    "\n",
    "while Cond != True:\n",
    "    x = i ** 2\n",
    "    i = i + 1\n",
    "    print(x)\n",
    "    if i ** 2 > a:\n",
    "        Cond = True\n",
    "    "
   ]
  },
  {
   "cell_type": "code",
   "execution_count": 2,
   "metadata": {},
   "outputs": [
    {
     "data": {
      "text/plain": [
       "4"
      ]
     },
     "execution_count": 2,
     "metadata": {},
     "output_type": "execute_result"
    }
   ],
   "source": [
    "2 + 2"
   ]
  },
  {
   "cell_type": "code",
   "execution_count": 1,
   "metadata": {},
   "outputs": [
    {
     "name": "stdout",
     "output_type": "stream",
     "text": [
      "Common.ipynb README.md    \u001b[34mTrach\u001b[m\u001b[m        \u001b[34mmods\u001b[m\u001b[m\r\n"
     ]
    }
   ],
   "source": [
    "! ls "
   ]
  },
  {
   "cell_type": "code",
   "execution_count": 2,
   "metadata": {},
   "outputs": [
    {
     "name": "stdout",
     "output_type": "stream",
     "text": [
      "total 40\r\n",
      "drwxr-xr-x  10 kirillivanov  staff   340 12 май 17:05 \u001b[34m.\u001b[m\u001b[m/\r\n",
      "drwx------+ 20 kirillivanov  staff   680 12 май 16:58 \u001b[34m..\u001b[m\u001b[m/\r\n",
      "-rw-r--r--@  1 kirillivanov  staff  6148 12 май 17:00 .DS_Store\r\n",
      "drwxr-xr-x  14 kirillivanov  staff   476 12 май 17:01 \u001b[34m.git\u001b[m\u001b[m/\r\n",
      "-rw-r--r--   1 kirillivanov  staff  1056 12 май 16:57 .gitignore\r\n",
      "drwxr-xr-x   2 kirillivanov  staff    68 12 май 17:05 \u001b[34m.ipynb_checkpoints\u001b[m\u001b[m/\r\n",
      "-rw-r--r--   1 kirillivanov  staff  2922 12 май 16:54 Common.ipynb\r\n",
      "-rw-r--r--   1 kirillivanov  staff    59 12 май 16:57 README.md\r\n",
      "drwxr-xr-x   7 kirillivanov  staff   238 12 май 17:00 \u001b[34mTrach\u001b[m\u001b[m/\r\n",
      "drwxr-xr-x   4 kirillivanov  staff   136 12 май 16:57 \u001b[34mmods\u001b[m\u001b[m/\r\n"
     ]
    }
   ],
   "source": [
    "ls -al"
   ]
  },
  {
   "cell_type": "code",
   "execution_count": 3,
   "metadata": {},
   "outputs": [
    {
     "data": {
      "text/plain": [
       "729"
      ]
     },
     "execution_count": 3,
     "metadata": {},
     "output_type": "execute_result"
    }
   ],
   "source": [
    "9 ** 3\n"
   ]
  },
  {
   "cell_type": "code",
   "execution_count": 4,
   "metadata": {},
   "outputs": [
    {
     "ename": "NameError",
     "evalue": "name 'good' is not defined",
     "output_type": "error",
     "traceback": [
      "\u001b[0;31m---------------------------------------------------------------------------\u001b[0m",
      "\u001b[0;31mNameError\u001b[0m                                 Traceback (most recent call last)",
      "\u001b[0;32m<ipython-input-4-d7f986677d9f>\u001b[0m in \u001b[0;36m<module>\u001b[0;34m()\u001b[0m\n\u001b[0;32m----> 1\u001b[0;31m \u001b[0mgood\u001b[0m\u001b[0;34m\u001b[0m\u001b[0m\n\u001b[0m",
      "\u001b[0;31mNameError\u001b[0m: name 'good' is not defined"
     ]
    }
   ],
   "source": [
    "good"
   ]
  },
  {
   "cell_type": "code",
   "execution_count": 5,
   "metadata": {},
   "outputs": [
    {
     "data": {
      "text/plain": [
       "8"
      ]
     },
     "execution_count": 5,
     "metadata": {},
     "output_type": "execute_result"
    }
   ],
   "source": [
    "good = 5\n",
    "good + 3"
   ]
  },
  {
   "cell_type": "code",
   "execution_count": 3,
   "metadata": {},
   "outputs": [
    {
     "ename": "NameError",
     "evalue": "name 'so' is not defined",
     "output_type": "error",
     "traceback": [
      "\u001b[0;31m---------------------------------------------------------------------------\u001b[0m",
      "\u001b[0;31mNameError\u001b[0m                                 Traceback (most recent call last)",
      "\u001b[0;32m<ipython-input-3-b1c2418effb6>\u001b[0m in \u001b[0;36m<module>\u001b[0;34m()\u001b[0m\n\u001b[0;32m----> 1\u001b[0;31m \u001b[0mso\u001b[0m\u001b[0;34m\u001b[0m\u001b[0m\n\u001b[0m",
      "\u001b[0;31mNameError\u001b[0m: name 'so' is not defined"
     ]
    }
   ],
   "source": [
    "so "
   ]
  },
  {
   "cell_type": "code",
   "execution_count": null,
   "metadata": {
    "collapsed": true
   },
   "outputs": [],
   "source": []
  }
 ],
 "metadata": {
  "kernelspec": {
   "display_name": "Python 3",
   "language": "python",
   "name": "python3"
  },
  "language_info": {
   "codemirror_mode": {
    "name": "ipython",
    "version": 3
   },
   "file_extension": ".py",
   "mimetype": "text/x-python",
   "name": "python",
   "nbconvert_exporter": "python",
   "pygments_lexer": "ipython3",
   "version": "3.6.1"
  }
 },
 "nbformat": 4,
 "nbformat_minor": 2
}
