{
 "cells": [
  {
   "cell_type": "code",
   "execution_count": 1,
   "metadata": {},
   "outputs": [
    {
     "data": {
      "text/plain": [
       "28"
      ]
     },
     "execution_count": 1,
     "metadata": {},
     "output_type": "execute_result"
    }
   ],
   "source": [
    "3 + 5**2\n"
   ]
  },
  {
   "cell_type": "code",
   "execution_count": null,
   "metadata": {},
   "outputs": [],
   "source": [
    "#!/usr/bin/env python3\n",
    "#coding: UTF-8\n",
    "\n",
    "import turtle as t\n",
    "import numpy as np\n",
    "\n",
    "\n",
    "def figure_l(n, r):\n",
    "    i = 0\n",
    "    an = 180 * (n - 2) / n\n",
    "    an1 = np.sin(np.pi/n)\n",
    "    a = r * 2 * an1\n",
    "    t.left(180 - (an)/2)\n",
    "    while i < n:\n",
    "        t.forward(a)\n",
    "        t.left(180 - an)\n",
    "        i += 1\n",
    "    t.right(180 - (an)/2)\n",
    "    \n",
    "def figure_r(n, r):\n",
    "    i = 0\n",
    "    an = 180 * (n - 2) / n\n",
    "    an1 = np.sin(np.pi/n)\n",
    "    a = r * 2 * an1\n",
    "    t.left(180 - (an)/2)\n",
    "    while i < n:\n",
    "        t.forward(a)\n",
    "        t.right(180 - an)\n",
    "        i += 1\n",
    "    t.right(180 - (an)/2)\n",
    "\n",
    "            \n",
    "n = 50\n",
    "r = 50\n",
    "j = 0\n",
    "\n",
    "while j < 8:\n",
    "    figure_l(n, r + 10*j)\n",
    "    figure_r(n, r + 10*j)\n",
    "    j += 1\n",
    "\n",
    "\n",
    " \n",
    "input()"
   ]
  },
  {
   "cell_type": "code",
   "execution_count": 1,
   "metadata": {},
   "outputs": [
    {
     "name": "stdout",
     "output_type": "stream",
     "text": [
      "10\n",
      "1\n",
      "4\n",
      "9\n"
     ]
    }
   ],
   "source": [
    "#!/usr/bin/env python3\n",
    "#coding: UTF-8\n",
    "\n",
    "a = int(input())\n",
    "i = 1\n",
    "Cond = i ** 2 > a\n",
    "\n",
    "while Cond != True:\n",
    "    x = i ** 2\n",
    "    i = i + 1\n",
    "    print(x)\n",
    "    if i ** 2 > a:\n",
    "        Cond = True\n",
    "    "
   ]
  },
  {
   "cell_type": "code",
   "execution_count": 2,
   "metadata": {},
   "outputs": [
    {
     "data": {
      "text/plain": [
       "4"
      ]
     },
     "execution_count": 2,
     "metadata": {},
     "output_type": "execute_result"
    }
   ],
   "source": [
    "2 + 2"
   ]
  },
  {
   "cell_type": "code",
   "execution_count": null,
   "metadata": {
    "collapsed": true
   },
   "outputs": [],
   "source": []
  }
 ],
 "metadata": {
  "kernelspec": {
   "display_name": "Python 3",
   "language": "python",
   "name": "python3"
  },
  "language_info": {
   "codemirror_mode": {
    "name": "ipython",
    "version": 3
   },
   "file_extension": ".py",
   "mimetype": "text/x-python",
   "name": "python",
   "nbconvert_exporter": "python",
   "pygments_lexer": "ipython3",
   "version": "3.6.1"
  }
 },
 "nbformat": 4,
 "nbformat_minor": 2
}
