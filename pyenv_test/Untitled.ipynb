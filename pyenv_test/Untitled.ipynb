{
 "cells": [
  {
   "cell_type": "code",
   "execution_count": 7,
   "metadata": {},
   "outputs": [
    {
     "name": "stdout",
     "output_type": "stream",
     "text": [
      " i 0 0.000000 1.986693 \n",
      " i 1 0.100000 2.955202 \n",
      " i 2 0.200000 3.894183 \n",
      " i 3 0.300000 4.794255 \n",
      " i 4 0.400000 5.646425 \n",
      " i 5 0.500000 6.442177 \n",
      " i 6 0.600000 7.173561 \n",
      " i 7 0.700000 7.833269 \n",
      " i 8 0.800000 8.414710 \n",
      " i 9 0.900000 8.912074 \n",
      " i 10 1.000000 9.320391 \n",
      " i 11 1.100000 9.635582 \n",
      " i 12 1.200000 9.854497 \n",
      " i 13 1.300000 9.974950 \n",
      " i 14 1.400000 9.995736 \n",
      " i 15 1.500000 9.916648 \n",
      " i 16 1.600000 9.738476 \n",
      " i 17 1.700000 9.463001 \n",
      " i 18 1.800000 9.092974 \n",
      " i 19 1.900000 8.632094 \n"
     ]
    },
    {
     "name": "stderr",
     "output_type": "stream",
     "text": [
      "Warning in <TCanvas::Cnstructor>: Deleting canvas with same name: c1\n"
     ]
    }
   ],
   "source": [
    "from __future__ import print_function\n",
    "import ROOT\n",
    "from ROOT import TCanvas, TGraph\n",
    "from ROOT import gROOT\n",
    "from math import sin\n",
    "from array import array\n",
    "\n",
    "\n",
    "c1 = TCanvas( 'c1', 'A Simple Graph Example', 200, 10, 700, 500 )\n",
    "\n",
    "c1.SetFillColor( 42 )\n",
    "c1.SetGrid()\n",
    "\n",
    "n = 20\n",
    "x, y = array( 'd' ), array( 'd' )\n",
    "\n",
    "for i in range( n ):\n",
    "   x.append( 0.1*i )\n",
    "   y.append( 10*sin( x[i]+0.2 ) )\n",
    "   print(' i %i %f %f ' % (i,x[i],y[i]))\n",
    "\n",
    "gr = TGraph( n, x, y )\n",
    "gr.SetLineColor( 2 )\n",
    "gr.SetLineWidth( 4 )\n",
    "gr.SetMarkerColor( 4 )\n",
    "gr.SetMarkerStyle( 21 )\n",
    "gr.SetTitle( 'a simple graph' )\n",
    "gr.GetXaxis().SetTitle( 'X title' )\n",
    "gr.GetYaxis().SetTitle( 'Y title' )\n",
    "gr.Draw( 'ACP' )"
   ]
  },
  {
   "cell_type": "code",
   "execution_count": 3,
   "metadata": {},
   "outputs": [],
   "source": [
    "c1.Update()\n",
    "c1.GetFrame().SetFillColor( 21 )\n",
    "c1.GetFrame().SetBorderSize( 12 )\n",
    "c1.Modified()\n",
    "c1.Update()"
   ]
  },
  {
   "cell_type": "code",
   "execution_count": 5,
   "metadata": {},
   "outputs": [
    {
     "data": {
      "image/png": "[encoded data removed]",
      "text/plain": [
       "<IPython.core.display.Image object>"
      ]
     },
     "metadata": {},
     "output_type": "display_data"
    }
   ],
   "source": [
    "from ROOT import gROOT \n",
    "gROOT.GetListOfCanvases().Draw()"
   ]
  },
  {
   "cell_type": "code",
   "execution_count": 2,
   "metadata": {},
   "outputs": [
    {
     "data": {
      "text/plain": [
       "'/Users/kirillivanov/Documents/Pythonn/pyenv_test'"
      ]
     },
     "execution_count": 2,
     "metadata": {},
     "output_type": "execute_result"
    }
   ],
   "source": [
    "%pwd"
   ]
  },
  {
   "cell_type": "code",
   "execution_count": 3,
   "metadata": {},
   "outputs": [
    {
     "name": "stdout",
     "output_type": "stream",
     "text": [
      "Welcome to JupyROOT 6.16/00\n"
     ]
    }
   ],
   "source": [
    "import ROOT"
   ]
  },
  {
   "cell_type": "code",
   "execution_count": 4,
   "metadata": {},
   "outputs": [
    {
     "name": "stdout",
     "output_type": "stream",
     "text": [
      "\n",
      "\u001b[1mRooFit v3.60 -- Developed by Wouter Verkerke and David Kirkby\u001b[0m \n",
      "                Copyright (C) 2000-2013 NIKHEF, University of California & Stanford University\n",
      "                All rights reserved, please read http://roofit.sourceforge.net/license.txt\n",
      "\n"
     ]
    }
   ],
   "source": [
    "from ROOT import RooFit"
   ]
  },
  {
   "cell_type": "code",
   "execution_count": 8,
   "metadata": {},
   "outputs": [],
   "source": [
    "S       = ROOT.RooRealVar ( \"S\"      , \"Signal\"  , 250    , 5     , 4000)\n"
   ]
  },
  {
   "cell_type": "code",
   "execution_count": 10,
   "metadata": {},
   "outputs": [
    {
     "data": {
      "text/plain": [
       "<ROOT.RooRealVar object (\"S\") at 0x7f91f4130ee0>"
      ]
     },
     "execution_count": 10,
     "metadata": {},
     "output_type": "execute_result"
    }
   ],
   "source": [
    "S"
   ]
  },
  {
   "cell_type": "code",
   "execution_count": null,
   "metadata": {},
   "outputs": [],
   "source": []
  }
 ],
 "metadata": {
  "kernelspec": {
   "display_name": "Python 3",
   "language": "python",
   "name": "python3"
  },
  "language_info": {
   "codemirror_mode": {
    "name": "ipython",
    "version": 3
   },
   "file_extension": ".py",
   "mimetype": "text/x-python",
   "name": "python",
   "nbconvert_exporter": "python",
   "pygments_lexer": "ipython3",
   "version": "3.7.1"
  }
 },
 "nbformat": 4,
 "nbformat_minor": 2
}
