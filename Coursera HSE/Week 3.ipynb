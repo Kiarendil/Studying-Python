{
 "cells": [
  {
   "cell_type": "markdown",
   "metadata": {},
   "source": [
    "## Неделя 3 - дробные числа"
   ]
  },
  {
   "cell_type": "code",
   "execution_count": null,
   "metadata": {
    "collapsed": true
   },
   "outputs": [],
   "source": [
    "a = float(input())\n",
    "b = float(input())\n",
    "c = float(input())\n",
    "\n",
    "p = (a + b + c) / 2 \n",
    "\n",
    "s = (p * (p - a) * (p - b) * (p - c) ) ** 0.5 \n",
    "\n",
    "print(s)"
   ]
  },
  {
   "cell_type": "code",
   "execution_count": null,
   "metadata": {
    "collapsed": true
   },
   "outputs": [],
   "source": [
    "n = float(input())\n",
    "\n",
    "i = 0\n",
    "Sum = 0\n",
    "\n",
    "while i != n:\n",
    "    Sum += 1 / ((i + 1) ** 2)\n",
    "    i += 1\n",
    "\n",
    "print(Sum)\n",
    "\n"
   ]
  },
  {
   "cell_type": "code",
   "execution_count": 3,
   "metadata": {},
   "outputs": [
    {
     "name": "stdout",
     "output_type": "stream",
     "text": [
      "5.7\n",
      "0.7000000000000002\n"
     ]
    }
   ],
   "source": [
    "q = float(input())\n",
    "\n",
    "z = int(q)\n",
    "d = q - z\n",
    "\n",
    "print(d)"
   ]
  },
  {
   "cell_type": "code",
   "execution_count": 12,
   "metadata": {},
   "outputs": [
    {
     "name": "stdout",
     "output_type": "stream",
     "text": [
      "10.35\n",
      "10 35\n"
     ]
    }
   ],
   "source": [
    "q = float(input())\n",
    "\n",
    "r = int(q)\n",
    "k = q - r\n",
    "\n",
    "print(r, int('{0:.0f}'.format(k * 100)))"
   ]
  },
  {
   "cell_type": "code",
   "execution_count": 37,
   "metadata": {},
   "outputs": [
    {
     "name": "stdout",
     "output_type": "stream",
     "text": [
      "2.5\n",
      "2\n"
     ]
    }
   ],
   "source": [
    "q = float(input())\n",
    "\n",
    "r = int(q)\n",
    "ep = 5 * 10**-1\n",
    "\n",
    "chet = r % 2 == 0\n",
    "half = abs(q - 0.5) < 2 * ep\n",
    "\n",
    "if half:\n",
    "    if chet:\n",
    "        print(round(q) + 1)\n",
    "    else:\n",
    "        print(round(q))\n",
    "else:\n",
    "    print(round(q))\n"
   ]
  },
  {
   "cell_type": "code",
   "execution_count": 39,
   "metadata": {},
   "outputs": [
    {
     "name": "stdout",
     "output_type": "stream",
     "text": [
      "12\n",
      "179\n",
      "0\n",
      "200 48\n"
     ]
    }
   ],
   "source": [
    "persent = int(input())\n",
    "rub = int(input())\n",
    "cop = int(input())\n",
    "\n",
    "start = rub + cop\n",
    "end = start * (1 + persent * 0.01)\n",
    "\n",
    "rub_end = round(end)\n",
    "cop_end = end - rub_end\n",
    "\n",
    "print(rub_end, int('{0:.0f}'.format(cop_end * 100)))\n"
   ]
  },
  {
   "cell_type": "code",
   "execution_count": 42,
   "metadata": {
    "scrolled": true
   },
   "outputs": [
    {
     "name": "stdout",
     "output_type": "stream",
     "text": [
      "5\n",
      "7.1\n",
      "1\n",
      "2\n",
      "3\n",
      "4\n",
      "5\n",
      "6\n",
      "24441.502709999993\n"
     ]
    }
   ],
   "source": [
    "n = int(input())\n",
    "x = float(input())\n",
    "\n",
    "p = n\n",
    "Sum = 0\n",
    "\n",
    "while n >= 0:\n",
    "    a = float(input())\n",
    "    Sum += a * (x ** n)\n",
    "    n -= 1\n",
    "\n",
    "print(Sum)\n"
   ]
  },
  {
   "cell_type": "code",
   "execution_count": 1,
   "metadata": {
    "scrolled": true
   },
   "outputs": [
    {
     "name": "stdout",
     "output_type": "stream",
     "text": [
      "1\n",
      "7\n",
      "9\n",
      "0\n",
      "4.163331998932266\n"
     ]
    }
   ],
   "source": [
    "n = 0; s = 0; i = 0\n",
    "X_n = [x for x in range(1000)]\n",
    "check = True\n",
    "\n",
    "while check:\n",
    "\tinp = int(input())\n",
    "\tX_n[n] = inp\n",
    "\tif X_n[n] == 0:\n",
    "\t\tcheck = False\n",
    "\t\tcontinue;\n",
    "\ts += X_n[n]\n",
    "\tn += 1\n",
    "\n",
    "s = s / n\n",
    "sigma_s = 0\n",
    "\n",
    "while i < n:\n",
    "\tsigma_s += (X_n[i] - s) ** 2\n",
    "\ti += 1\n",
    "\n",
    "sigma = (sigma_s / (n - 1)) ** 0.5\n",
    "\n",
    "print(sigma)\n",
    "\n"
   ]
  },
  {
   "cell_type": "code",
   "execution_count": 6,
   "metadata": {},
   "outputs": [
    {
     "name": "stdout",
     "output_type": "stream",
     "text": [
      "1\n",
      "2\n",
      "1\n",
      "-1.0\n"
     ]
    }
   ],
   "source": [
    "a = float(input())\n",
    "b = float(input())\n",
    "c = float(input())\n",
    "\n",
    "D = b ** 2 - 4 * a * c\n",
    "\n",
    "if D >= 0:\n",
    "    if D > 0:\n",
    "        x_2 = (-b + D ** 0.5) / (2 * a)\n",
    "        x_1 = (-b - D ** 0.5) / (2 * a)\n",
    "\n",
    "        print(x_1, x_2)\n",
    "    if D == 0:\n",
    "        x = -b / (2 * a)\n",
    "\n",
    "        print(x)\n"
   ]
  },
  {
   "cell_type": "code",
   "execution_count": 10,
   "metadata": {},
   "outputs": [
    {
     "name": "stdout",
     "output_type": "stream",
     "text": [
      "4\n",
      "1\n",
      "1\n",
      "0\n"
     ]
    }
   ],
   "source": [
    "a = float(input())\n",
    "b = float(input())\n",
    "c = float(input())\n",
    "\n",
    "if a == 0:\n",
    "    print(3)\n",
    "else:\n",
    "    D = b ** 2 - 4 * a * c\n",
    "\n",
    "    if D >= 0:\n",
    "        if D > 0:\n",
    "            x_2 = (-b + D ** 0.5) / (2 * a)\n",
    "            x_1 = (-b - D ** 0.5) / (2 * a)\n",
    "\n",
    "            print(2, x_1, x_2)\n",
    "        else:\n",
    "            x = -b / (2 * a)\n",
    "\n",
    "            print(1, x)\n",
    "    else:\n",
    "        print(0)\n"
   ]
  },
  {
   "cell_type": "markdown",
   "metadata": {},
   "source": [
    "## Неделя 3 -- строки и срезы\n"
   ]
  },
  {
   "cell_type": "code",
   "execution_count": 13,
   "metadata": {},
   "outputs": [
    {
     "name": "stdout",
     "output_type": "stream",
     "text": [
      "Abrakadabra\n",
      "r\n",
      "r\n",
      "Abrak\n",
      "Abrakadab\n",
      "Arkdba\n",
      "baaar\n",
      "arbadakarbA\n",
      "abdkrA\n",
      "11\n"
     ]
    }
   ],
   "source": [
    "st = input()\n",
    "\n",
    "print(st[2])\n",
    "print(st[-2])\n",
    "\n",
    "print(st[0:5])\n",
    "print(st[:-2])\n",
    "\n",
    "print(st[0::2])\n",
    "print(st[1::2])\n",
    "\n",
    "print(st[-1::-1])\n",
    "print(st[-1::-2])\n",
    "\n",
    "print(len(st))"
   ]
  },
  {
   "cell_type": "code",
   "execution_count": 29,
   "metadata": {},
   "outputs": [
    {
     "name": "stdout",
     "output_type": "stream",
     "text": [
      "officef\n",
      "1 6\n"
     ]
    }
   ],
   "source": [
    "st = input()\n",
    "sub = 'f'\n",
    "st_inv = st[-1::-1]\n",
    "len_st = len(st)\n",
    "\n",
    "a = st.find(sub)\n",
    "b_inv = st_inv.find(sub)\n",
    "b = len_st - b_inv - 1\n",
    "\n",
    "if a == -1:\n",
    "    pass\n",
    "elif a == b:\n",
    "    print(a)\n",
    "else:\n",
    "    print(a, b)"
   ]
  },
  {
   "cell_type": "code",
   "execution_count": 32,
   "metadata": {},
   "outputs": [
    {
     "name": "stdout",
     "output_type": "stream",
     "text": [
      "asdfghhzxcvb\n",
      "asdfgzxcvb\n"
     ]
    }
   ],
   "source": [
    "st = input()\n",
    "sub = 'h'\n",
    "st_inv = st[-1::-1]\n",
    "len_st = len(st)\n",
    "\n",
    "a = st.find(sub)\n",
    "b_inv = st_inv.find(sub)\n",
    "b = len_st - b_inv - 1\n",
    "\n",
    "st_start = st[0:a]\n",
    "st_end = st[b + 1:]\n",
    "\n",
    "print(st_start + st_end)\n"
   ]
  },
  {
   "cell_type": "code",
   "execution_count": 34,
   "metadata": {},
   "outputs": [
    {
     "name": "stdout",
     "output_type": "stream",
     "text": [
      "In the hole in the ground there lived a hobbit\n",
      "In te hole in the ground there lived a e hole in the ground there lived a hobbit\n"
     ]
    }
   ],
   "source": [
    "st = input()\n",
    "sub = 'h'\n",
    "st_inv = st[-1::-1]\n",
    "len_st = len(st)\n",
    "\n",
    "a = st.find(sub)\n",
    "b_inv = st_inv.find(sub)\n",
    "b = len_st - b_inv - 1\n",
    "\n",
    "st_start = st[0:a + 1]\n",
    "st_end = st[b + 1:]\n",
    "st_print = st[a + 1:b]\n",
    "\n",
    "print(st_start + 2 * st_print + st[b] + st_end)\n"
   ]
  },
  {
   "cell_type": "code",
   "execution_count": 37,
   "metadata": {},
   "outputs": [
    {
     "name": "stdout",
     "output_type": "stream",
     "text": [
      "hif\n",
      "-1\n"
     ]
    }
   ],
   "source": [
    "st = input()\n",
    "sub = 'f'\n",
    "\n",
    "a = st.find(sub)\n",
    "b = st.find(sub, a + 1)\n",
    "\n",
    "\n",
    "if a == -1:\n",
    "    print(-2)\n",
    "elif a == b:\n",
    "    print(-1)\n",
    "else:\n",
    "    print(b)"
   ]
  },
  {
   "cell_type": "code",
   "execution_count": 40,
   "metadata": {},
   "outputs": [
    {
     "name": "stdout",
     "output_type": "stream",
     "text": [
      "A B\n",
      "B A\n"
     ]
    }
   ],
   "source": [
    "st = input()\n",
    "sub = ' '\n",
    "\n",
    "a = st.find(sub)\n",
    "\n",
    "st_start = st[0:a]\n",
    "st_end = st[a + 1:]\n",
    "\n",
    "print(st_end + sub + st_start)\n"
   ]
  },
  {
   "cell_type": "code",
   "execution_count": 43,
   "metadata": {},
   "outputs": [
    {
     "name": "stdout",
     "output_type": "stream",
     "text": [
      "ki ki eofw adf\n",
      "4\n"
     ]
    }
   ],
   "source": [
    "st = input()\n",
    "sub = ' '\n",
    "\n",
    "a = st.count(sub)\n",
    "\n",
    "print(a + 1)\n"
   ]
  },
  {
   "cell_type": "code",
   "execution_count": 46,
   "metadata": {},
   "outputs": [
    {
     "name": "stdout",
     "output_type": "stream",
     "text": [
      "1\n",
      "one\n"
     ]
    }
   ],
   "source": [
    "st = input()\n",
    "sub_old = '1'\n",
    "sub_new = 'one'\n",
    "\n",
    "st = st.replace(sub_old, sub_new)\n",
    "\n",
    "print(st)\n"
   ]
  },
  {
   "cell_type": "code",
   "execution_count": 49,
   "metadata": {},
   "outputs": [
    {
     "name": "stdout",
     "output_type": "stream",
     "text": [
      "@\n",
      "\n"
     ]
    }
   ],
   "source": [
    "st = input()\n",
    "sub_old = '@'\n",
    "sub_new = ''\n",
    "\n",
    "st = st.replace(sub_old, sub_new)\n",
    "\n",
    "print(st)\n"
   ]
  },
  {
   "cell_type": "code",
   "execution_count": 52,
   "metadata": {},
   "outputs": [
    {
     "name": "stdout",
     "output_type": "stream",
     "text": [
      "In the hole in the ground there lived a hobbit\n",
      "In the Hole in tHe ground tHere lived a hobbit\n"
     ]
    }
   ],
   "source": [
    "st = input()\n",
    "sub = 'h'\n",
    "st_inv = st[-1::-1]\n",
    "len_st = len(st)\n",
    "\n",
    "a = st.find(sub)\n",
    "b_inv = st_inv.find(sub)\n",
    "b = len_st - b_inv - 1\n",
    "\n",
    "st_start = st[0:a + 1]\n",
    "st_end = st[b:]\n",
    "st_part = st[a + 1:b]\n",
    "\n",
    "sub_old = 'h'\n",
    "sub_new = 'H'\n",
    "\n",
    "st_print = st_part.replace(sub_old, sub_new)\n",
    "\n",
    "print(st_start + st_print + st_end)\n"
   ]
  },
  {
   "cell_type": "code",
   "execution_count": 62,
   "metadata": {},
   "outputs": [
    {
     "name": "stdout",
     "output_type": "stream",
     "text": [
      "aaa\n",
      "a*a*a\n"
     ]
    }
   ],
   "source": [
    "st = input()\n",
    "sub = ''\n",
    "st_inv = st[-1::-1]\n",
    "len_st = len(st)\n",
    "\n",
    "if len_st == 1:\n",
    "    print(st)\n",
    "else:\n",
    "    a = st.find(sub)\n",
    "    b_inv = st_inv.find(sub)\n",
    "    b = len_st - b_inv - 1\n",
    "\n",
    "    st_start = st[0:a]\n",
    "    st_end = st[b:]\n",
    "    st_part = st[a + 1:b]\n",
    "\n",
    "    sub_old = ''\n",
    "    sub_new = '*'\n",
    "\n",
    "    st_print = st_part.replace(sub_old, sub_new)\n",
    "\n",
    "    print(st[0] + st_print + st[-1])\n"
   ]
  },
  {
   "cell_type": "code",
   "execution_count": null,
   "metadata": {
    "collapsed": true
   },
   "outputs": [],
   "source": []
  }
 ],
 "metadata": {
  "kernelspec": {
   "display_name": "Python 3",
   "language": "python",
   "name": "python3"
  },
  "language_info": {
   "codemirror_mode": {
    "name": "ipython",
    "version": 3
   },
   "file_extension": ".py",
   "mimetype": "text/x-python",
   "name": "python",
   "nbconvert_exporter": "python",
   "pygments_lexer": "ipython3",
   "version": "3.6.1"
  }
 },
 "nbformat": 4,
 "nbformat_minor": 2
}
