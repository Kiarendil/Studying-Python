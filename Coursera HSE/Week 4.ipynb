{
 "cells": [
  {
   "cell_type": "markdown",
   "metadata": {},
   "source": [
    "## Неделя 4 -- функции"
   ]
  },
  {
   "cell_type": "code",
   "execution_count": 2,
   "metadata": {},
   "outputs": [
    {
     "name": "stdout",
     "output_type": "stream",
     "text": [
      "6\n",
      "4\n",
      "7\n",
      "5\n",
      "4\n"
     ]
    }
   ],
   "source": [
    "def min4(a, b, c, d):\n",
    "    x_1 = min(a, b)\n",
    "    x_2 = min(b, c)\n",
    "    x_3 = min(c, d)\n",
    "    \n",
    "    y_1 = min(x_1, x_2)\n",
    "    y_2 = min(x_2, x_3)\n",
    "    \n",
    "    return min(y_1, y_2)\n",
    "\n",
    "a = int(input())\n",
    "b = int(input())\n",
    "c = int(input())\n",
    "d = int(input())\n",
    "\n",
    "print(min4(a, b, c, d))\n"
   ]
  },
  {
   "cell_type": "code",
   "execution_count": 3,
   "metadata": {},
   "outputs": [
    {
     "name": "stdout",
     "output_type": "stream",
     "text": [
      "0\n",
      "0\n",
      "1\n",
      "1\n",
      "1.4142135623730951\n"
     ]
    }
   ],
   "source": [
    "def distance(x_1, y_1, x_2, y_2):\n",
    "    r = ((x_2 - x_1) ** 2 + (y_2 - y_1) ** 2) ** 0.5\n",
    "    \n",
    "    return r\n",
    "\n",
    "a = int(input())\n",
    "b = int(input())\n",
    "c = int(input())\n",
    "d = int(input())\n",
    "\n",
    "print(distance(a, b, c, d))\n"
   ]
  },
  {
   "cell_type": "code",
   "execution_count": 11,
   "metadata": {},
   "outputs": [
    {
     "name": "stdout",
     "output_type": "stream",
     "text": [
      "1\n",
      "1\n",
      "YES\n"
     ]
    }
   ],
   "source": [
    "def IsPointInSquare(x, y):\n",
    "    check_x = -1 <= x <= 1\n",
    "    check_y = -1 <= y <= 1\n",
    "\n",
    "    return check_x and check_y\n",
    "\n",
    "\n",
    "x = float(input())\n",
    "y = float(input())\n",
    "\n",
    "cond = IsPointInSquare(x, y)\n",
    "\n",
    "if cond:\n",
    "    print(\"YES\")\n",
    "else:\n",
    "    print(\"NO\")\n"
   ]
  },
  {
   "cell_type": "code",
   "execution_count": 15,
   "metadata": {},
   "outputs": [
    {
     "name": "stdout",
     "output_type": "stream",
     "text": [
      "0.5\n",
      "0.51\n",
      "NO\n"
     ]
    }
   ],
   "source": [
    "import numpy as np\n",
    "\n",
    "def IsPointInSquare(x, y):\n",
    "    check_x = np.abs(x + y) <= 1\n",
    "    check_y = np.abs(x - y) <= 1\n",
    "\n",
    "    return check_x and check_y\n",
    "\n",
    "\n",
    "x = float(input())\n",
    "y = float(input())\n",
    "\n",
    "cond = IsPointInSquare(x, y)\n",
    "\n",
    "if cond:\n",
    "    print(\"YES\")\n",
    "else:\n",
    "    print(\"NO\")\n"
   ]
  },
  {
   "cell_type": "code",
   "execution_count": 16,
   "metadata": {},
   "outputs": [
    {
     "name": "stdout",
     "output_type": "stream",
     "text": [
      "1\n",
      "1\n",
      "1\n",
      "1\n",
      "1\n",
      "YES\n"
     ]
    }
   ],
   "source": [
    "def IsPointInCircle(x, y, x_c, y_c, r):\n",
    "    check = (x - x_c) ** 2 + (y - y_c) ** 2 <= r ** 2\n",
    "\n",
    "    return check\n",
    "\n",
    "x = float(input())\n",
    "y = float(input())\n",
    "x_c = float(input())\n",
    "y_c = float(input())\n",
    "r = float(input())\n",
    "\n",
    "cond = IsPointInCircle(x, y, x_c, y_c, r)\n",
    "\n",
    "if cond:\n",
    "    print(\"YES\")\n",
    "else:\n",
    "    print(\"NO\")\n"
   ]
  },
  {
   "cell_type": "code",
   "execution_count": 19,
   "metadata": {},
   "outputs": [
    {
     "name": "stdout",
     "output_type": "stream",
     "text": [
      "-0.5\n",
      "1.8\n",
      "YES\n"
     ]
    }
   ],
   "source": [
    "def IsPointInArea(x, y):\n",
    "    check_p_circle = (x + 2) ** 2 + (y - 2) ** 2 <= 4\n",
    "    check_p_right = y >= 2 * x + 1\n",
    "    check_p_left = y >= -x\n",
    "    check_p = check_p_circle and check_p_right and check_p_left\n",
    "\n",
    "    check_n_circle = (x + 2) ** 2 + (y - 2) ** 2 >= 4\n",
    "    check_n_right = y <= 2 * x + 1\n",
    "    check_n_left = y <= -x\n",
    "    check_n = check_p_circle and check_p_right and check_p_left\n",
    "\n",
    "    return check_p or check_n\n",
    "\n",
    "x = float(input())\n",
    "y = float(input())\n",
    "\n",
    "cond = IsPointInArea(x, y)\n",
    "\n",
    "if cond:\n",
    "    print(\"YES\")\n",
    "else:\n",
    "    print(\"NO\")\n"
   ]
  },
  {
   "cell_type": "code",
   "execution_count": 25,
   "metadata": {},
   "outputs": [
    {
     "name": "stdout",
     "output_type": "stream",
     "text": [
      "1\n",
      "1\n",
      "0\n"
     ]
    }
   ],
   "source": [
    "def xor(x, y):\n",
    "    check_x = x == 1 and y == 0\n",
    "    check_y = y == 1 and x == 0\n",
    "\n",
    "    if check_x or check_y:\n",
    "        print(1)\n",
    "    else:\n",
    "        print(0)\n",
    "\n",
    "x = int(input())\n",
    "y = int(input())\n",
    "\n",
    "xor(x, y)\n"
   ]
  },
  {
   "cell_type": "code",
   "execution_count": null,
   "metadata": {
    "collapsed": true
   },
   "outputs": [],
   "source": [
    "def min_divisor(n):\n",
    "    i = 2\n",
    "    check = False\n",
    "\n",
    "    while check or i ** 2 <= n:\n",
    "        check_i = n % i == 0\n",
    "        \n",
    "        if check_i:\n",
    "            check = True\n",
    "            break\n",
    "        else:\n",
    "            i += 1\n",
    "\n",
    "    if check:\n",
    "        return i\n",
    "    else:\n",
    "        return n\n",
    "\n",
    "n = int(input())\n",
    "\n",
    "print(min_divisor(n))\n",
    "\n"
   ]
  },
  {
   "cell_type": "code",
   "execution_count": 28,
   "metadata": {},
   "outputs": [
    {
     "name": "stdout",
     "output_type": "stream",
     "text": [
      "101\n",
      "YES\n"
     ]
    }
   ],
   "source": [
    "def is_prime(n):\n",
    "    i = 2\n",
    "    check = False\n",
    "\n",
    "    while i ** 2 <= n:\n",
    "        check_i = n % i == 0\n",
    "        \n",
    "        if check_i:\n",
    "            check = True\n",
    "            break\n",
    "        else:\n",
    "            i += 1\n",
    "\n",
    "    if check:\n",
    "        return False\n",
    "    else:\n",
    "        return True\n",
    "\n",
    "n = int(input())\n",
    "\n",
    "if is_prime(n):\n",
    "    print(\"YES\")\n",
    "else:\n",
    "    print(\"NO\")\n"
   ]
  },
  {
   "cell_type": "code",
   "execution_count": 31,
   "metadata": {},
   "outputs": [
    {
     "name": "stdout",
     "output_type": "stream",
     "text": [
      "1.41\n",
      "2\n",
      "1.9880999999999998\n"
     ]
    }
   ],
   "source": [
    "def power(a, n):\n",
    "    if n == 0:\n",
    "        return 1\n",
    "\n",
    "    a_n = a * power(a, n - 1)\n",
    "    \n",
    "    return a_n\n",
    "\n",
    "a = float(input())\n",
    "n = int(input())\n",
    "\n",
    "print(power(a, n))\n"
   ]
  },
  {
   "cell_type": "code",
   "execution_count": 35,
   "metadata": {},
   "outputs": [
    {
     "name": "stdout",
     "output_type": "stream",
     "text": [
      "4\n",
      "-1\n",
      "0.25\n"
     ]
    }
   ],
   "source": [
    "def power(a, n):\n",
    "    if n == 0:\n",
    "        return 1\n",
    "\n",
    "    if n < 0:\n",
    "        n_m = -n\n",
    "        a_n = a * power(a, n_m - 1)\n",
    "        return 1 / a_n\n",
    "\n",
    "    if n > 0:\n",
    "        a_n = a * power(a, n - 1)\n",
    "        return a_n\n",
    "\n",
    "a = float(input())\n",
    "n = int(input())\n",
    "\n",
    "print(power(a, n))\n"
   ]
  },
  {
   "cell_type": "code",
   "execution_count": null,
   "metadata": {
    "collapsed": true
   },
   "outputs": [],
   "source": []
  }
 ],
 "metadata": {
  "kernelspec": {
   "display_name": "Python 3",
   "language": "python",
   "name": "python3"
  },
  "language_info": {
   "codemirror_mode": {
    "name": "ipython",
    "version": 3
   },
   "file_extension": ".py",
   "mimetype": "text/x-python",
   "name": "python",
   "nbconvert_exporter": "python",
   "pygments_lexer": "ipython3",
   "version": "3.6.1"
  }
 },
 "nbformat": 4,
 "nbformat_minor": 2
}
